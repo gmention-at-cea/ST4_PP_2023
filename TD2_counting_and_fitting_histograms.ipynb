{
  "nbformat": 4,
  "nbformat_minor": 0,
  "metadata": {
    "colab": {
      "name": "TD2_counting_and_fitting_histograms.ipynb",
      "provenance": [],
      "collapsed_sections": [],
      "include_colab_link": true
    },
    "kernelspec": {
      "name": "python3",
      "display_name": "Python 3"
    }
  },
  "cells": [
    {
      "cell_type": "markdown",
      "metadata": {
        "id": "view-in-github",
        "colab_type": "text"
      },
      "source": [
        "<a href=\"https://colab.research.google.com/github/gmention-at-cea/ST4_PP_2021/blob/main/TD2_counting_and_fitting_histograms.ipynb\" target=\"_parent\"><img src=\"https://colab.research.google.com/assets/colab-badge.svg\" alt=\"Open In Colab\"/></a>"
      ]
    },
    {
      "cell_type": "markdown",
      "metadata": {
        "id": "vC4tgnpDwyiL"
      },
      "source": [
        "# Analyzing data from different ways"
      ]
    },
    {
      "cell_type": "markdown",
      "metadata": {
        "id": "bQNFrjJLR7pQ"
      },
      "source": [
        "With this notebook, we will practice the three main statistical analyses we have seen in the course (see Fig. 1):\n",
        "\n",
        "1. Rate analysis\n",
        "2. Binned shape analysis\n",
        "3. Unbinned shape analysis\n",
        "\n",
        "\n",
        "\n",
        "<img src=\"https://raw.githubusercontent.com/gmention-at-cea/ST4_PP_2021/main/Stat_analyses.png\" width=\"800px\">\n",
        "<figcaption><b>Fig. 1</b> | The 3 main categories of analyses.</figcaption>\n",
        "\n",
        "For this purpose we will use an example we have introduced several times: the Higgs decay to 2 photons (also called the $H\\rightarrow\\gamma\\gamma$ channel, see Fig. 2).\n",
        "\n",
        "<img src=\"https://raw.githubusercontent.com/gmention-at-cea/ST4_PP_2021/main/Higgs_2gammas.png\" width=\"800px\">\n",
        "<figcaption><b>Fig. 2</b> | Decay of the Higgs boson into 2 gammas. Invariant mass $m_{\\gamma\\gamma}$ distribution of the events.</figcaption>\n",
        "\n",
        "We will start with the basic **rate analysis**.\n",
        "\n",
        "We will then move to the full likelihood treatment of the dataset where we will practice with the **unbinned likelihood** and **the extended unbinned likelihood**.\n",
        "\n",
        "Finally we will also analyse this dataset with a **binned likelihood** approach.\n",
        "\n",
        "We will also compare the precision of the different approaches and their ease of use.\n"
      ]
    },
    {
      "cell_type": "markdown",
      "metadata": {
        "id": "aq8j0bB6Z1C8"
      },
      "source": [
        "## A word about colors and style in plots\n",
        "\n",
        "Here is a nice default color palette to use in your graphics with `matplotlib`.\n",
        "\n",
        "To use one of these colors use for instance `color='tab:red'` in your graphic call."
      ]
    },
    {
      "cell_type": "markdown",
      "metadata": {
        "id": "AhHK1rwyT7JQ"
      },
      "source": [
        "<img src=\"https://raw.githubusercontent.com/gmention-at-cea/ST4_PP_2021/main/tableau_named_colors.png\" width=\"800px\">\n",
        "<figcaption><b>Fig. 3</b> | Name of the basic colors in matplotlib.</figcaption>.\n"
      ]
    },
    {
      "cell_type": "code",
      "metadata": {
        "id": "MUdeXYLC4mT6",
        "colab": {
          "base_uri": "https://localhost:8080/"
        },
        "outputId": "9da15253-dae3-4ca9-a51f-a76fe93d759e"
      },
      "source": [
        "import matplotlib.colors as colors\n",
        "colors.TABLEAU_COLORS"
      ],
      "execution_count": 3,
      "outputs": [
        {
          "output_type": "execute_result",
          "data": {
            "text/plain": [
              "OrderedDict([('tab:blue', '#1f77b4'),\n",
              "             ('tab:orange', '#ff7f0e'),\n",
              "             ('tab:green', '#2ca02c'),\n",
              "             ('tab:red', '#d62728'),\n",
              "             ('tab:purple', '#9467bd'),\n",
              "             ('tab:brown', '#8c564b'),\n",
              "             ('tab:pink', '#e377c2'),\n",
              "             ('tab:gray', '#7f7f7f'),\n",
              "             ('tab:olive', '#bcbd22'),\n",
              "             ('tab:cyan', '#17becf')])"
            ]
          },
          "metadata": {
            "tags": []
          },
          "execution_count": 3
        }
      ]
    },
    {
      "cell_type": "markdown",
      "metadata": {
        "id": "xeuk2jX3Uhbf"
      },
      "source": [
        "The next piece of code is to display the graphics, plots, histograms in vector format (png, or jpg are raster format, svg, eps are vector formats for instance). Vector formats avoid pixelization and can be rescaled at convenience without quality loss. The svg, for scalable vector graphics is a web browser standard."
      ]
    },
    {
      "cell_type": "code",
      "metadata": {
        "id": "9rBAcGeCUiJx"
      },
      "source": [
        "from IPython.display import set_matplotlib_formats  \n",
        "set_matplotlib_formats('pdf', 'svg')\n",
        "%config InlineBackend.figure_format ='svg'\n",
        "\n",
        "# Import the nice matplotlib pyplot package\n",
        "from matplotlib import pyplot as plt\n",
        "# Set up the figure display to the \"R ggplot\" style:\n",
        "# light gray background, white grid, and the tick marks on the axes face outwards.\n",
        "plt.style.use('ggplot')\n",
        "\n",
        "import numpy as np"
      ],
      "execution_count": 4,
      "outputs": []
    },
    {
      "cell_type": "markdown",
      "metadata": {
        "id": "qfl46PvYTgxF"
      },
      "source": [
        "## Loading the dataset\n",
        "\n",
        "Her we load a dataset prepared for this analysis.\n",
        "\n",
        "This is a dataset mimicking the Higgs to gamma gamma plot above (see Fig. 2).\n",
        "\n",
        "We load this data set into a variable called `X`.\n",
        "\n"
      ]
    },
    {
      "cell_type": "code",
      "metadata": {
        "id": "FNUB3NuKngsy"
      },
      "source": [
        "url = ('https://raw.githubusercontent.com/gmention-at-cea/ST4_PP_2021/main/Higgs_2gammas.dat')\n",
        "import requests\n",
        "data_file = requests.get(url, allow_redirects=True)\n",
        "open('Higgs_2gammas.dat','wb').write(data_file.content)\n",
        "\n",
        "# We now load the dataset into X\n",
        "X = np.loadtxt('Higgs_2gammas.dat')"
      ],
      "execution_count": 5,
      "outputs": []
    },
    {
      "cell_type": "markdown",
      "metadata": {
        "id": "eoK6cGsWU_Wd"
      },
      "source": [
        "## Question 1: plot/display your dataset\n",
        "\n",
        "First get a taste about this dataset.\n",
        "1. What is it's size (number of elements)?\n",
        "2. What is the range of values?\n",
        "3. Do a histogram of this data set. (Use `numpy.histogram` and `matplotlib.pyplot.hist`. Check their use. What are they for?)\n",
        "4. Investigate the different options in `numpy.hist` especially the one concerning the **normlisation of the histogram**. There are basically 2 options, one where the output will contain the number of samples in each bin and one where the output will be the empirical probability density function within the bin, normalized such that the integral over the dataset range is 1. Does the sum of the bin contents add to 1?"
      ]
    },
    {
      "cell_type": "code",
      "metadata": {
        "id": "NfxAsmycGpBE"
      },
      "source": [
        ""
      ],
      "execution_count": 10,
      "outputs": []
    },
    {
      "cell_type": "markdown",
      "metadata": {
        "id": "Xtwz2u8OQWQ0"
      },
      "source": [
        "<img src=\"https://raw.githubusercontent.com/gmention-at-cea/ST4_PP_2021/main/Histograms.png\" width=\"800px\">\n",
        "<figcaption><b>Fig. 4</b> | Two main ways to display histograms. The first one is the basic counting of the number of occurences of $x_1,\\ldots,x_n$ which fall inside the bin range. We call it $N$. The other way is related to the probability density function. The counting $N$ is thus normalised with respect to the bin width $\\Delta{x}$ and the total number of events, $n$, in the data sample $(x_1,\\ldots,x_n)$</figcaption>.\n"
      ]
    },
    {
      "cell_type": "markdown",
      "metadata": {
        "id": "CT5enCMyVj3k"
      },
      "source": [
        "### Examples of histograms with options"
      ]
    },
    {
      "cell_type": "markdown",
      "metadata": {
        "id": "5jjO7-ZiY1p0"
      },
      "source": [
        "#### Basic histogram - no option\n",
        "\n",
        "use the `plt.hist` command to display a histogram of the X random varible."
      ]
    },
    {
      "cell_type": "code",
      "metadata": {
        "id": "-QvFZldwVZKZ"
      },
      "source": [
        ""
      ],
      "execution_count": null,
      "outputs": []
    },
    {
      "cell_type": "markdown",
      "metadata": {
        "id": "lAbV_-TMY6SS"
      },
      "source": [
        "#### Changing the number of bins\n",
        "\n",
        "Now, set the number of bins to 100."
      ]
    },
    {
      "cell_type": "code",
      "metadata": {
        "id": "LLFBpUfEYnyf"
      },
      "source": [
        ""
      ],
      "execution_count": null,
      "outputs": []
    },
    {
      "cell_type": "markdown",
      "metadata": {
        "id": "MIH3E3FfZA9c"
      },
      "source": [
        "#### Defining the bins (number, width,...)\n",
        "\n",
        "Use `numpy.linspace` to define the exact wanted binning: 100 bins from 0 to 600. Use hist to draw the histogram with such a binning. Check this is correct. For instance, if you would like to have 6 bins, what should be the commande to provide?"
      ]
    },
    {
      "cell_type": "code",
      "metadata": {
        "id": "tY6MpeFIYqp2"
      },
      "source": [
        ""
      ],
      "execution_count": null,
      "outputs": []
    },
    {
      "cell_type": "markdown",
      "metadata": {
        "id": "X57i_-yMk4tR"
      },
      "source": [
        "Now, use `numpy.arange` to specify the bins. If I want 6 bins between 0 and 600 with the numpy.arange commande, how should I proceed?"
      ]
    },
    {
      "cell_type": "code",
      "metadata": {
        "id": "ZjQk4S9JZOCS"
      },
      "source": [
        ""
      ],
      "execution_count": null,
      "outputs": []
    },
    {
      "cell_type": "markdown",
      "metadata": {
        "id": "QLswux9QZ3lI"
      },
      "source": [
        "#### Zooming on an interesting part of the histogram\n",
        "\n",
        "In the previous plotting, did you notice something different in the 0 to 600 range? Look more carefully around 100 to 200. With 100 bins. Use `plt.hist` commande as before."
      ]
    },
    {
      "cell_type": "code",
      "metadata": {
        "id": "c7smd-N6YuJb"
      },
      "source": [
        ""
      ],
      "execution_count": null,
      "outputs": []
    },
    {
      "cell_type": "markdown",
      "metadata": {
        "id": "f1NWiBsNlujY"
      },
      "source": [
        "Use the `range` and `bins` keyword of `plt.hist` command to draw the histogram. If needed, you can check the documentation with `plt.hist?` int eh `CODE` cell below or in the **scratch code cell** from the menu **Insert>Scratch code cell**."
      ]
    },
    {
      "cell_type": "code",
      "metadata": {
        "id": "JfewHMvMG51M"
      },
      "source": [
        ""
      ],
      "execution_count": null,
      "outputs": []
    },
    {
      "cell_type": "markdown",
      "metadata": {
        "id": "W-iYoX-kZ-ol"
      },
      "source": [
        "#### Plotting histograms as dots with error bars\n",
        "\n",
        "We would like to display the histogram with dots and error bars as seen in the lecture and in the figure below.\n",
        "\n",
        "<img src=\"https://raw.githubusercontent.com/gmention-at-cea/ST4_PP_2021/main/Error_bars.png\" width=\"800px\">\n",
        "<figcaption><b>Fig. 5</b> | Drawing count data with a dot and an error bar. Data count follows as Poisson distribution. Here $k$ counts are observed. The estimated variance is thus $k$ and so the standard deviation is $\\sqrt{k}$. The dot is thus displayed at $y=k$ for this bin content and the error bars extend up to $y_{\\rm up} = k+\\sqrt{k}$ and down to $y = k-\\sqrt{k}$ by convention.</figcaption>"
      ]
    },
    {
      "cell_type": "code",
      "metadata": {
        "id": "nf7r8A4pWm94",
        "colab": {
          "base_uri": "https://localhost:8080/",
          "height": 397
        },
        "outputId": "45f25e64-2213-44ad-f1e1-76074b28301c"
      },
      "source": [
        "x = np.linspace(100,200,201)\n",
        "xbin = np.linspace(100,200,51)\n",
        "# use of the numpy.histogram command to get the bin contents\n",
        "y, bin_edges = np.histogram(X, bins=xbin)\n",
        "# xbin and bin_edges should be identical\n",
        "# bin_edges is number of y entries + 1 => not convenient for plotting\n",
        "# Define here the bin centers:\n",
        "bin_centers = 0.5*(bin_edges[1:] + bin_edges[:-1])\n",
        "\n",
        "# scale properly the bin content and the error bars...\n",
        "# This is just a relative sacling. We do not change the data...\n",
        "# plt.hist(X,bins=bin_edges)\n",
        "plt.errorbar(bin_centers,y,yerr=np.sqrt(y),fmt='ko');\n",
        "plt.title('Histogram with errorbar plot');\n",
        "plt.xlabel('$x$ ($m_{\\gamma\\gamma}$ in GeV)');\n",
        "plt.ylabel('$N(x)$');"
      ],
      "execution_count": 7,
      "outputs": [
        {
          "output_type": "display_data",
          "data": {
            "text/plain": [
              "<Figure size 432x288 with 1 Axes>"
            ],
            "image/svg+xml": "<?xml version=\"1.0\" encoding=\"utf-8\" standalone=\"no\"?>\n<!DOCTYPE svg PUBLIC \"-//W3C//DTD SVG 1.1//EN\"\n  \"http://www.w3.org/Graphics/SVG/1.1/DTD/svg11.dtd\">\n<!-- Created with matplotlib (https://matplotlib.org/) -->\n<svg height=\"282.299875pt\" version=\"1.1\" viewBox=\"0 0 390.90125 282.299875\" width=\"390.90125pt\" xmlns=\"http://www.w3.org/2000/svg\" xmlns:xlink=\"http://www.w3.org/1999/xlink\">\n <defs>\n  <style type=\"text/css\">\n*{stroke-linecap:butt;stroke-linejoin:round;}\n  </style>\n </defs>\n <g id=\"figure_1\">\n  <g id=\"patch_1\">\n   <path d=\"M 0 282.299875 \nL 390.90125 282.299875 \nL 390.90125 0 \nL 0 0 \nz\n\" style=\"fill:#ffffff;\"/>\n  </g>\n  <g id=\"axes_1\">\n   <g id=\"patch_2\">\n    <path d=\"M 48.90125 241.58175 \nL 383.70125 241.58175 \nL 383.70125 24.14175 \nL 48.90125 24.14175 \nz\n\" style=\"fill:#e5e5e5;\"/>\n   </g>\n   <g id=\"matplotlib.axis_1\">\n    <g id=\"xtick_1\">\n     <g id=\"line2d_1\">\n      <path clip-path=\"url(#p1949b284f0)\" d=\"M 61.01368 241.58175 \nL 61.01368 24.14175 \n\" style=\"fill:none;stroke:#ffffff;stroke-linecap:square;stroke-width:0.8;\"/>\n     </g>\n     <g id=\"line2d_2\">\n      <defs>\n       <path d=\"M 0 0 \nL 0 3.5 \n\" id=\"m8b05088c5e\" style=\"stroke:#555555;stroke-width:0.8;\"/>\n      </defs>\n      <g>\n       <use style=\"fill:#555555;stroke:#555555;stroke-width:0.8;\" x=\"61.01368\" xlink:href=\"#m8b05088c5e\" y=\"241.58175\"/>\n      </g>\n     </g>\n     <g id=\"text_1\">\n      <!-- 100 -->\n      <defs>\n       <path d=\"M 12.40625 8.296875 \nL 28.515625 8.296875 \nL 28.515625 63.921875 \nL 10.984375 60.40625 \nL 10.984375 69.390625 \nL 28.421875 72.90625 \nL 38.28125 72.90625 \nL 38.28125 8.296875 \nL 54.390625 8.296875 \nL 54.390625 0 \nL 12.40625 0 \nz\n\" id=\"DejaVuSans-49\"/>\n       <path d=\"M 31.78125 66.40625 \nQ 24.171875 66.40625 20.328125 58.90625 \nQ 16.5 51.421875 16.5 36.375 \nQ 16.5 21.390625 20.328125 13.890625 \nQ 24.171875 6.390625 31.78125 6.390625 \nQ 39.453125 6.390625 43.28125 13.890625 \nQ 47.125 21.390625 47.125 36.375 \nQ 47.125 51.421875 43.28125 58.90625 \nQ 39.453125 66.40625 31.78125 66.40625 \nz\nM 31.78125 74.21875 \nQ 44.046875 74.21875 50.515625 64.515625 \nQ 56.984375 54.828125 56.984375 36.375 \nQ 56.984375 17.96875 50.515625 8.265625 \nQ 44.046875 -1.421875 31.78125 -1.421875 \nQ 19.53125 -1.421875 13.0625 8.265625 \nQ 6.59375 17.96875 6.59375 36.375 \nQ 6.59375 54.828125 13.0625 64.515625 \nQ 19.53125 74.21875 31.78125 74.21875 \nz\n\" id=\"DejaVuSans-48\"/>\n      </defs>\n      <g style=\"fill:#555555;\" transform=\"translate(51.46993 256.180188)scale(0.1 -0.1)\">\n       <use xlink:href=\"#DejaVuSans-49\"/>\n       <use x=\"63.623047\" xlink:href=\"#DejaVuSans-48\"/>\n       <use x=\"127.246094\" xlink:href=\"#DejaVuSans-48\"/>\n      </g>\n     </g>\n    </g>\n    <g id=\"xtick_2\">\n     <g id=\"line2d_3\">\n      <path clip-path=\"url(#p1949b284f0)\" d=\"M 123.128708 241.58175 \nL 123.128708 24.14175 \n\" style=\"fill:none;stroke:#ffffff;stroke-linecap:square;stroke-width:0.8;\"/>\n     </g>\n     <g id=\"line2d_4\">\n      <g>\n       <use style=\"fill:#555555;stroke:#555555;stroke-width:0.8;\" x=\"123.128708\" xlink:href=\"#m8b05088c5e\" y=\"241.58175\"/>\n      </g>\n     </g>\n     <g id=\"text_2\">\n      <!-- 120 -->\n      <defs>\n       <path d=\"M 19.1875 8.296875 \nL 53.609375 8.296875 \nL 53.609375 0 \nL 7.328125 0 \nL 7.328125 8.296875 \nQ 12.9375 14.109375 22.625 23.890625 \nQ 32.328125 33.6875 34.8125 36.53125 \nQ 39.546875 41.84375 41.421875 45.53125 \nQ 43.3125 49.21875 43.3125 52.78125 \nQ 43.3125 58.59375 39.234375 62.25 \nQ 35.15625 65.921875 28.609375 65.921875 \nQ 23.96875 65.921875 18.8125 64.3125 \nQ 13.671875 62.703125 7.8125 59.421875 \nL 7.8125 69.390625 \nQ 13.765625 71.78125 18.9375 73 \nQ 24.125 74.21875 28.421875 74.21875 \nQ 39.75 74.21875 46.484375 68.546875 \nQ 53.21875 62.890625 53.21875 53.421875 \nQ 53.21875 48.921875 51.53125 44.890625 \nQ 49.859375 40.875 45.40625 35.40625 \nQ 44.1875 33.984375 37.640625 27.21875 \nQ 31.109375 20.453125 19.1875 8.296875 \nz\n\" id=\"DejaVuSans-50\"/>\n      </defs>\n      <g style=\"fill:#555555;\" transform=\"translate(113.584958 256.180188)scale(0.1 -0.1)\">\n       <use xlink:href=\"#DejaVuSans-49\"/>\n       <use x=\"63.623047\" xlink:href=\"#DejaVuSans-50\"/>\n       <use x=\"127.246094\" xlink:href=\"#DejaVuSans-48\"/>\n      </g>\n     </g>\n    </g>\n    <g id=\"xtick_3\">\n     <g id=\"line2d_5\">\n      <path clip-path=\"url(#p1949b284f0)\" d=\"M 185.243736 241.58175 \nL 185.243736 24.14175 \n\" style=\"fill:none;stroke:#ffffff;stroke-linecap:square;stroke-width:0.8;\"/>\n     </g>\n     <g id=\"line2d_6\">\n      <g>\n       <use style=\"fill:#555555;stroke:#555555;stroke-width:0.8;\" x=\"185.243736\" xlink:href=\"#m8b05088c5e\" y=\"241.58175\"/>\n      </g>\n     </g>\n     <g id=\"text_3\">\n      <!-- 140 -->\n      <defs>\n       <path d=\"M 37.796875 64.3125 \nL 12.890625 25.390625 \nL 37.796875 25.390625 \nz\nM 35.203125 72.90625 \nL 47.609375 72.90625 \nL 47.609375 25.390625 \nL 58.015625 25.390625 \nL 58.015625 17.1875 \nL 47.609375 17.1875 \nL 47.609375 0 \nL 37.796875 0 \nL 37.796875 17.1875 \nL 4.890625 17.1875 \nL 4.890625 26.703125 \nz\n\" id=\"DejaVuSans-52\"/>\n      </defs>\n      <g style=\"fill:#555555;\" transform=\"translate(175.699986 256.180188)scale(0.1 -0.1)\">\n       <use xlink:href=\"#DejaVuSans-49\"/>\n       <use x=\"63.623047\" xlink:href=\"#DejaVuSans-52\"/>\n       <use x=\"127.246094\" xlink:href=\"#DejaVuSans-48\"/>\n      </g>\n     </g>\n    </g>\n    <g id=\"xtick_4\">\n     <g id=\"line2d_7\">\n      <path clip-path=\"url(#p1949b284f0)\" d=\"M 247.358764 241.58175 \nL 247.358764 24.14175 \n\" style=\"fill:none;stroke:#ffffff;stroke-linecap:square;stroke-width:0.8;\"/>\n     </g>\n     <g id=\"line2d_8\">\n      <g>\n       <use style=\"fill:#555555;stroke:#555555;stroke-width:0.8;\" x=\"247.358764\" xlink:href=\"#m8b05088c5e\" y=\"241.58175\"/>\n      </g>\n     </g>\n     <g id=\"text_4\">\n      <!-- 160 -->\n      <defs>\n       <path d=\"M 33.015625 40.375 \nQ 26.375 40.375 22.484375 35.828125 \nQ 18.609375 31.296875 18.609375 23.390625 \nQ 18.609375 15.53125 22.484375 10.953125 \nQ 26.375 6.390625 33.015625 6.390625 \nQ 39.65625 6.390625 43.53125 10.953125 \nQ 47.40625 15.53125 47.40625 23.390625 \nQ 47.40625 31.296875 43.53125 35.828125 \nQ 39.65625 40.375 33.015625 40.375 \nz\nM 52.59375 71.296875 \nL 52.59375 62.3125 \nQ 48.875 64.0625 45.09375 64.984375 \nQ 41.3125 65.921875 37.59375 65.921875 \nQ 27.828125 65.921875 22.671875 59.328125 \nQ 17.53125 52.734375 16.796875 39.40625 \nQ 19.671875 43.65625 24.015625 45.921875 \nQ 28.375 48.1875 33.59375 48.1875 \nQ 44.578125 48.1875 50.953125 41.515625 \nQ 57.328125 34.859375 57.328125 23.390625 \nQ 57.328125 12.15625 50.6875 5.359375 \nQ 44.046875 -1.421875 33.015625 -1.421875 \nQ 20.359375 -1.421875 13.671875 8.265625 \nQ 6.984375 17.96875 6.984375 36.375 \nQ 6.984375 53.65625 15.1875 63.9375 \nQ 23.390625 74.21875 37.203125 74.21875 \nQ 40.921875 74.21875 44.703125 73.484375 \nQ 48.484375 72.75 52.59375 71.296875 \nz\n\" id=\"DejaVuSans-54\"/>\n      </defs>\n      <g style=\"fill:#555555;\" transform=\"translate(237.815014 256.180188)scale(0.1 -0.1)\">\n       <use xlink:href=\"#DejaVuSans-49\"/>\n       <use x=\"63.623047\" xlink:href=\"#DejaVuSans-54\"/>\n       <use x=\"127.246094\" xlink:href=\"#DejaVuSans-48\"/>\n      </g>\n     </g>\n    </g>\n    <g id=\"xtick_5\">\n     <g id=\"line2d_9\">\n      <path clip-path=\"url(#p1949b284f0)\" d=\"M 309.473792 241.58175 \nL 309.473792 24.14175 \n\" style=\"fill:none;stroke:#ffffff;stroke-linecap:square;stroke-width:0.8;\"/>\n     </g>\n     <g id=\"line2d_10\">\n      <g>\n       <use style=\"fill:#555555;stroke:#555555;stroke-width:0.8;\" x=\"309.473792\" xlink:href=\"#m8b05088c5e\" y=\"241.58175\"/>\n      </g>\n     </g>\n     <g id=\"text_5\">\n      <!-- 180 -->\n      <defs>\n       <path d=\"M 31.78125 34.625 \nQ 24.75 34.625 20.71875 30.859375 \nQ 16.703125 27.09375 16.703125 20.515625 \nQ 16.703125 13.921875 20.71875 10.15625 \nQ 24.75 6.390625 31.78125 6.390625 \nQ 38.8125 6.390625 42.859375 10.171875 \nQ 46.921875 13.96875 46.921875 20.515625 \nQ 46.921875 27.09375 42.890625 30.859375 \nQ 38.875 34.625 31.78125 34.625 \nz\nM 21.921875 38.8125 \nQ 15.578125 40.375 12.03125 44.71875 \nQ 8.5 49.078125 8.5 55.328125 \nQ 8.5 64.0625 14.71875 69.140625 \nQ 20.953125 74.21875 31.78125 74.21875 \nQ 42.671875 74.21875 48.875 69.140625 \nQ 55.078125 64.0625 55.078125 55.328125 \nQ 55.078125 49.078125 51.53125 44.71875 \nQ 48 40.375 41.703125 38.8125 \nQ 48.828125 37.15625 52.796875 32.3125 \nQ 56.78125 27.484375 56.78125 20.515625 \nQ 56.78125 9.90625 50.3125 4.234375 \nQ 43.84375 -1.421875 31.78125 -1.421875 \nQ 19.734375 -1.421875 13.25 4.234375 \nQ 6.78125 9.90625 6.78125 20.515625 \nQ 6.78125 27.484375 10.78125 32.3125 \nQ 14.796875 37.15625 21.921875 38.8125 \nz\nM 18.3125 54.390625 \nQ 18.3125 48.734375 21.84375 45.5625 \nQ 25.390625 42.390625 31.78125 42.390625 \nQ 38.140625 42.390625 41.71875 45.5625 \nQ 45.3125 48.734375 45.3125 54.390625 \nQ 45.3125 60.0625 41.71875 63.234375 \nQ 38.140625 66.40625 31.78125 66.40625 \nQ 25.390625 66.40625 21.84375 63.234375 \nQ 18.3125 60.0625 18.3125 54.390625 \nz\n\" id=\"DejaVuSans-56\"/>\n      </defs>\n      <g style=\"fill:#555555;\" transform=\"translate(299.930042 256.180188)scale(0.1 -0.1)\">\n       <use xlink:href=\"#DejaVuSans-49\"/>\n       <use x=\"63.623047\" xlink:href=\"#DejaVuSans-56\"/>\n       <use x=\"127.246094\" xlink:href=\"#DejaVuSans-48\"/>\n      </g>\n     </g>\n    </g>\n    <g id=\"xtick_6\">\n     <g id=\"line2d_11\">\n      <path clip-path=\"url(#p1949b284f0)\" d=\"M 371.58882 241.58175 \nL 371.58882 24.14175 \n\" style=\"fill:none;stroke:#ffffff;stroke-linecap:square;stroke-width:0.8;\"/>\n     </g>\n     <g id=\"line2d_12\">\n      <g>\n       <use style=\"fill:#555555;stroke:#555555;stroke-width:0.8;\" x=\"371.58882\" xlink:href=\"#m8b05088c5e\" y=\"241.58175\"/>\n      </g>\n     </g>\n     <g id=\"text_6\">\n      <!-- 200 -->\n      <g style=\"fill:#555555;\" transform=\"translate(362.04507 256.180188)scale(0.1 -0.1)\">\n       <use xlink:href=\"#DejaVuSans-50\"/>\n       <use x=\"63.623047\" xlink:href=\"#DejaVuSans-48\"/>\n       <use x=\"127.246094\" xlink:href=\"#DejaVuSans-48\"/>\n      </g>\n     </g>\n    </g>\n    <g id=\"text_7\">\n     <!-- $x$ ($m_{\\gamma\\gamma}$ in GeV) -->\n     <defs>\n      <path d=\"M 60.015625 54.6875 \nL 34.90625 27.875 \nL 50.296875 0 \nL 39.984375 0 \nL 28.421875 21.6875 \nL 8.296875 0 \nL -2.59375 0 \nL 24.3125 28.8125 \nL 10.015625 54.6875 \nL 20.3125 54.6875 \nL 30.8125 34.90625 \nL 49.125 54.6875 \nz\n\" id=\"DejaVuSans-Oblique-120\"/>\n      <path id=\"DejaVuSans-32\"/>\n      <path d=\"M 31 75.875 \nQ 24.46875 64.65625 21.28125 53.65625 \nQ 18.109375 42.671875 18.109375 31.390625 \nQ 18.109375 20.125 21.3125 9.0625 \nQ 24.515625 -2 31 -13.1875 \nL 23.1875 -13.1875 \nQ 15.875 -1.703125 12.234375 9.375 \nQ 8.59375 20.453125 8.59375 31.390625 \nQ 8.59375 42.28125 12.203125 53.3125 \nQ 15.828125 64.359375 23.1875 75.875 \nz\n\" id=\"DejaVuSans-40\"/>\n      <path d=\"M 89.796875 33.015625 \nL 83.40625 0 \nL 74.421875 0 \nL 80.71875 32.71875 \nQ 81.109375 34.8125 81.296875 36.328125 \nQ 81.5 37.84375 81.5 38.921875 \nQ 81.5 43.3125 79.046875 45.75 \nQ 76.609375 48.1875 72.21875 48.1875 \nQ 65.671875 48.1875 60.546875 43.28125 \nQ 55.421875 38.375 53.90625 30.515625 \nL 47.90625 0 \nL 38.921875 0 \nL 45.3125 32.71875 \nQ 45.703125 34.515625 45.890625 36.046875 \nQ 46.09375 37.59375 46.09375 38.8125 \nQ 46.09375 43.265625 43.65625 45.71875 \nQ 41.21875 48.1875 36.921875 48.1875 \nQ 30.28125 48.1875 25.140625 43.28125 \nQ 20.015625 38.375 18.5 30.515625 \nL 12.5 0 \nL 3.515625 0 \nL 14.203125 54.6875 \nL 23.1875 54.6875 \nL 21.484375 46.1875 \nQ 25.140625 50.984375 30.046875 53.484375 \nQ 34.96875 56 40.578125 56 \nQ 46.53125 56 50.359375 52.875 \nQ 54.203125 49.75 54.984375 44.1875 \nQ 59.078125 49.953125 64.46875 52.96875 \nQ 69.875 56 75.875 56 \nQ 82.90625 56 86.734375 51.953125 \nQ 90.578125 47.90625 90.578125 40.484375 \nQ 90.578125 38.875 90.375 36.9375 \nQ 90.1875 35.015625 89.796875 33.015625 \nz\n\" id=\"DejaVuSans-Oblique-109\"/>\n      <path d=\"M 23.296875 46.09375 \nL 28.71875 12.3125 \nL 54 54.6875 \nL 63.53125 54.6875 \nL 30.8125 0 \nL 26.765625 -20.796875 \nL 17.78125 -20.796875 \nL 21.828125 0 \nL 15.4375 40.828125 \nQ 14.453125 46.96875 9.8125 46.96875 \nL 7.421875 46.96875 \nL 8.890625 54.6875 \nL 12.3125 54.6875 \nQ 21.921875 54.6875 23.296875 46.09375 \nz\n\" id=\"DejaVuSans-Oblique-947\"/>\n      <path d=\"M 9.421875 54.6875 \nL 18.40625 54.6875 \nL 18.40625 0 \nL 9.421875 0 \nz\nM 9.421875 75.984375 \nL 18.40625 75.984375 \nL 18.40625 64.59375 \nL 9.421875 64.59375 \nz\n\" id=\"DejaVuSans-105\"/>\n      <path d=\"M 54.890625 33.015625 \nL 54.890625 0 \nL 45.90625 0 \nL 45.90625 32.71875 \nQ 45.90625 40.484375 42.875 44.328125 \nQ 39.84375 48.1875 33.796875 48.1875 \nQ 26.515625 48.1875 22.3125 43.546875 \nQ 18.109375 38.921875 18.109375 30.90625 \nL 18.109375 0 \nL 9.078125 0 \nL 9.078125 54.6875 \nL 18.109375 54.6875 \nL 18.109375 46.1875 \nQ 21.34375 51.125 25.703125 53.5625 \nQ 30.078125 56 35.796875 56 \nQ 45.21875 56 50.046875 50.171875 \nQ 54.890625 44.34375 54.890625 33.015625 \nz\n\" id=\"DejaVuSans-110\"/>\n      <path d=\"M 59.515625 10.40625 \nL 59.515625 29.984375 \nL 43.40625 29.984375 \nL 43.40625 38.09375 \nL 69.28125 38.09375 \nL 69.28125 6.78125 \nQ 63.578125 2.734375 56.6875 0.65625 \nQ 49.8125 -1.421875 42 -1.421875 \nQ 24.90625 -1.421875 15.25 8.5625 \nQ 5.609375 18.5625 5.609375 36.375 \nQ 5.609375 54.25 15.25 64.234375 \nQ 24.90625 74.21875 42 74.21875 \nQ 49.125 74.21875 55.546875 72.453125 \nQ 61.96875 70.703125 67.390625 67.28125 \nL 67.390625 56.78125 \nQ 61.921875 61.421875 55.765625 63.765625 \nQ 49.609375 66.109375 42.828125 66.109375 \nQ 29.4375 66.109375 22.71875 58.640625 \nQ 16.015625 51.171875 16.015625 36.375 \nQ 16.015625 21.625 22.71875 14.15625 \nQ 29.4375 6.6875 42.828125 6.6875 \nQ 48.046875 6.6875 52.140625 7.59375 \nQ 56.25 8.5 59.515625 10.40625 \nz\n\" id=\"DejaVuSans-71\"/>\n      <path d=\"M 56.203125 29.59375 \nL 56.203125 25.203125 \nL 14.890625 25.203125 \nQ 15.484375 15.921875 20.484375 11.0625 \nQ 25.484375 6.203125 34.421875 6.203125 \nQ 39.59375 6.203125 44.453125 7.46875 \nQ 49.3125 8.734375 54.109375 11.28125 \nL 54.109375 2.78125 \nQ 49.265625 0.734375 44.1875 -0.34375 \nQ 39.109375 -1.421875 33.890625 -1.421875 \nQ 20.796875 -1.421875 13.15625 6.1875 \nQ 5.515625 13.8125 5.515625 26.8125 \nQ 5.515625 40.234375 12.765625 48.109375 \nQ 20.015625 56 32.328125 56 \nQ 43.359375 56 49.78125 48.890625 \nQ 56.203125 41.796875 56.203125 29.59375 \nz\nM 47.21875 32.234375 \nQ 47.125 39.59375 43.09375 43.984375 \nQ 39.0625 48.390625 32.421875 48.390625 \nQ 24.90625 48.390625 20.390625 44.140625 \nQ 15.875 39.890625 15.1875 32.171875 \nz\n\" id=\"DejaVuSans-101\"/>\n      <path d=\"M 28.609375 0 \nL 0.78125 72.90625 \nL 11.078125 72.90625 \nL 34.1875 11.53125 \nL 57.328125 72.90625 \nL 67.578125 72.90625 \nL 39.796875 0 \nz\n\" id=\"DejaVuSans-86\"/>\n      <path d=\"M 8.015625 75.875 \nL 15.828125 75.875 \nQ 23.140625 64.359375 26.78125 53.3125 \nQ 30.421875 42.28125 30.421875 31.390625 \nQ 30.421875 20.453125 26.78125 9.375 \nQ 23.140625 -1.703125 15.828125 -13.1875 \nL 8.015625 -13.1875 \nQ 14.5 -2 17.703125 9.0625 \nQ 20.90625 20.125 20.90625 31.390625 \nQ 20.90625 42.671875 17.703125 53.65625 \nQ 14.5 64.65625 8.015625 75.875 \nz\n\" id=\"DejaVuSans-41\"/>\n     </defs>\n     <g style=\"fill:#555555;\" transform=\"translate(173.40125 271.379875)scale(0.12 -0.12)\">\n      <use transform=\"translate(0 0.015625)\" xlink:href=\"#DejaVuSans-Oblique-120\"/>\n      <use transform=\"translate(59.179688 0.015625)\" xlink:href=\"#DejaVuSans-32\"/>\n      <use transform=\"translate(90.966797 0.015625)\" xlink:href=\"#DejaVuSans-40\"/>\n      <use transform=\"translate(129.980469 0.015625)\" xlink:href=\"#DejaVuSans-Oblique-109\"/>\n      <use transform=\"translate(227.392578 -16.390625)scale(0.7)\" xlink:href=\"#DejaVuSans-Oblique-947\"/>\n      <use transform=\"translate(268.818359 -16.390625)scale(0.7)\" xlink:href=\"#DejaVuSans-Oblique-947\"/>\n      <use transform=\"translate(312.978516 0.015625)\" xlink:href=\"#DejaVuSans-32\"/>\n      <use transform=\"translate(344.765625 0.015625)\" xlink:href=\"#DejaVuSans-105\"/>\n      <use transform=\"translate(372.548828 0.015625)\" xlink:href=\"#DejaVuSans-110\"/>\n      <use transform=\"translate(435.927734 0.015625)\" xlink:href=\"#DejaVuSans-32\"/>\n      <use transform=\"translate(467.714844 0.015625)\" xlink:href=\"#DejaVuSans-71\"/>\n      <use transform=\"translate(545.205078 0.015625)\" xlink:href=\"#DejaVuSans-101\"/>\n      <use transform=\"translate(606.728516 0.015625)\" xlink:href=\"#DejaVuSans-86\"/>\n      <use transform=\"translate(675.136719 0.015625)\" xlink:href=\"#DejaVuSans-41\"/>\n     </g>\n    </g>\n   </g>\n   <g id=\"matplotlib.axis_2\">\n    <g id=\"ytick_1\">\n     <g id=\"line2d_13\">\n      <path clip-path=\"url(#p1949b284f0)\" d=\"M 48.90125 228.805745 \nL 383.70125 228.805745 \n\" style=\"fill:none;stroke:#ffffff;stroke-linecap:square;stroke-width:0.8;\"/>\n     </g>\n     <g id=\"line2d_14\">\n      <defs>\n       <path d=\"M 0 0 \nL -3.5 0 \n\" id=\"ma6edcdb5b3\" style=\"stroke:#555555;stroke-width:0.8;\"/>\n      </defs>\n      <g>\n       <use style=\"fill:#555555;stroke:#555555;stroke-width:0.8;\" x=\"48.90125\" xlink:href=\"#ma6edcdb5b3\" y=\"228.805745\"/>\n      </g>\n     </g>\n     <g id=\"text_8\">\n      <!-- 300 -->\n      <defs>\n       <path d=\"M 40.578125 39.3125 \nQ 47.65625 37.796875 51.625 33 \nQ 55.609375 28.21875 55.609375 21.1875 \nQ 55.609375 10.40625 48.1875 4.484375 \nQ 40.765625 -1.421875 27.09375 -1.421875 \nQ 22.515625 -1.421875 17.65625 -0.515625 \nQ 12.796875 0.390625 7.625 2.203125 \nL 7.625 11.71875 \nQ 11.71875 9.328125 16.59375 8.109375 \nQ 21.484375 6.890625 26.8125 6.890625 \nQ 36.078125 6.890625 40.9375 10.546875 \nQ 45.796875 14.203125 45.796875 21.1875 \nQ 45.796875 27.640625 41.28125 31.265625 \nQ 36.765625 34.90625 28.71875 34.90625 \nL 20.21875 34.90625 \nL 20.21875 43.015625 \nL 29.109375 43.015625 \nQ 36.375 43.015625 40.234375 45.921875 \nQ 44.09375 48.828125 44.09375 54.296875 \nQ 44.09375 59.90625 40.109375 62.90625 \nQ 36.140625 65.921875 28.71875 65.921875 \nQ 24.65625 65.921875 20.015625 65.03125 \nQ 15.375 64.15625 9.8125 62.3125 \nL 9.8125 71.09375 \nQ 15.4375 72.65625 20.34375 73.4375 \nQ 25.25 74.21875 29.59375 74.21875 \nQ 40.828125 74.21875 47.359375 69.109375 \nQ 53.90625 64.015625 53.90625 55.328125 \nQ 53.90625 49.265625 50.4375 45.09375 \nQ 46.96875 40.921875 40.578125 39.3125 \nz\n\" id=\"DejaVuSans-51\"/>\n      </defs>\n      <g style=\"fill:#555555;\" transform=\"translate(22.81375 232.604964)scale(0.1 -0.1)\">\n       <use xlink:href=\"#DejaVuSans-51\"/>\n       <use x=\"63.623047\" xlink:href=\"#DejaVuSans-48\"/>\n       <use x=\"127.246094\" xlink:href=\"#DejaVuSans-48\"/>\n      </g>\n     </g>\n    </g>\n    <g id=\"ytick_2\">\n     <g id=\"line2d_15\">\n      <path clip-path=\"url(#p1949b284f0)\" d=\"M 48.90125 185.214417 \nL 383.70125 185.214417 \n\" style=\"fill:none;stroke:#ffffff;stroke-linecap:square;stroke-width:0.8;\"/>\n     </g>\n     <g id=\"line2d_16\">\n      <g>\n       <use style=\"fill:#555555;stroke:#555555;stroke-width:0.8;\" x=\"48.90125\" xlink:href=\"#ma6edcdb5b3\" y=\"185.214417\"/>\n      </g>\n     </g>\n     <g id=\"text_9\">\n      <!-- 400 -->\n      <g style=\"fill:#555555;\" transform=\"translate(22.81375 189.013636)scale(0.1 -0.1)\">\n       <use xlink:href=\"#DejaVuSans-52\"/>\n       <use x=\"63.623047\" xlink:href=\"#DejaVuSans-48\"/>\n       <use x=\"127.246094\" xlink:href=\"#DejaVuSans-48\"/>\n      </g>\n     </g>\n    </g>\n    <g id=\"ytick_3\">\n     <g id=\"line2d_17\">\n      <path clip-path=\"url(#p1949b284f0)\" d=\"M 48.90125 141.623089 \nL 383.70125 141.623089 \n\" style=\"fill:none;stroke:#ffffff;stroke-linecap:square;stroke-width:0.8;\"/>\n     </g>\n     <g id=\"line2d_18\">\n      <g>\n       <use style=\"fill:#555555;stroke:#555555;stroke-width:0.8;\" x=\"48.90125\" xlink:href=\"#ma6edcdb5b3\" y=\"141.623089\"/>\n      </g>\n     </g>\n     <g id=\"text_10\">\n      <!-- 500 -->\n      <defs>\n       <path d=\"M 10.796875 72.90625 \nL 49.515625 72.90625 \nL 49.515625 64.59375 \nL 19.828125 64.59375 \nL 19.828125 46.734375 \nQ 21.96875 47.46875 24.109375 47.828125 \nQ 26.265625 48.1875 28.421875 48.1875 \nQ 40.625 48.1875 47.75 41.5 \nQ 54.890625 34.8125 54.890625 23.390625 \nQ 54.890625 11.625 47.5625 5.09375 \nQ 40.234375 -1.421875 26.90625 -1.421875 \nQ 22.3125 -1.421875 17.546875 -0.640625 \nQ 12.796875 0.140625 7.71875 1.703125 \nL 7.71875 11.625 \nQ 12.109375 9.234375 16.796875 8.0625 \nQ 21.484375 6.890625 26.703125 6.890625 \nQ 35.15625 6.890625 40.078125 11.328125 \nQ 45.015625 15.765625 45.015625 23.390625 \nQ 45.015625 31 40.078125 35.4375 \nQ 35.15625 39.890625 26.703125 39.890625 \nQ 22.75 39.890625 18.8125 39.015625 \nQ 14.890625 38.140625 10.796875 36.28125 \nz\n\" id=\"DejaVuSans-53\"/>\n      </defs>\n      <g style=\"fill:#555555;\" transform=\"translate(22.81375 145.422308)scale(0.1 -0.1)\">\n       <use xlink:href=\"#DejaVuSans-53\"/>\n       <use x=\"63.623047\" xlink:href=\"#DejaVuSans-48\"/>\n       <use x=\"127.246094\" xlink:href=\"#DejaVuSans-48\"/>\n      </g>\n     </g>\n    </g>\n    <g id=\"ytick_4\">\n     <g id=\"line2d_19\">\n      <path clip-path=\"url(#p1949b284f0)\" d=\"M 48.90125 98.031761 \nL 383.70125 98.031761 \n\" style=\"fill:none;stroke:#ffffff;stroke-linecap:square;stroke-width:0.8;\"/>\n     </g>\n     <g id=\"line2d_20\">\n      <g>\n       <use style=\"fill:#555555;stroke:#555555;stroke-width:0.8;\" x=\"48.90125\" xlink:href=\"#ma6edcdb5b3\" y=\"98.031761\"/>\n      </g>\n     </g>\n     <g id=\"text_11\">\n      <!-- 600 -->\n      <g style=\"fill:#555555;\" transform=\"translate(22.81375 101.83098)scale(0.1 -0.1)\">\n       <use xlink:href=\"#DejaVuSans-54\"/>\n       <use x=\"63.623047\" xlink:href=\"#DejaVuSans-48\"/>\n       <use x=\"127.246094\" xlink:href=\"#DejaVuSans-48\"/>\n      </g>\n     </g>\n    </g>\n    <g id=\"ytick_5\">\n     <g id=\"line2d_21\">\n      <path clip-path=\"url(#p1949b284f0)\" d=\"M 48.90125 54.440433 \nL 383.70125 54.440433 \n\" style=\"fill:none;stroke:#ffffff;stroke-linecap:square;stroke-width:0.8;\"/>\n     </g>\n     <g id=\"line2d_22\">\n      <g>\n       <use style=\"fill:#555555;stroke:#555555;stroke-width:0.8;\" x=\"48.90125\" xlink:href=\"#ma6edcdb5b3\" y=\"54.440433\"/>\n      </g>\n     </g>\n     <g id=\"text_12\">\n      <!-- 700 -->\n      <defs>\n       <path d=\"M 8.203125 72.90625 \nL 55.078125 72.90625 \nL 55.078125 68.703125 \nL 28.609375 0 \nL 18.3125 0 \nL 43.21875 64.59375 \nL 8.203125 64.59375 \nz\n\" id=\"DejaVuSans-55\"/>\n      </defs>\n      <g style=\"fill:#555555;\" transform=\"translate(22.81375 58.239651)scale(0.1 -0.1)\">\n       <use xlink:href=\"#DejaVuSans-55\"/>\n       <use x=\"63.623047\" xlink:href=\"#DejaVuSans-48\"/>\n       <use x=\"127.246094\" xlink:href=\"#DejaVuSans-48\"/>\n      </g>\n     </g>\n    </g>\n    <g id=\"text_13\">\n     <!-- $N(x)$ -->\n     <defs>\n      <path d=\"M 16.890625 72.90625 \nL 30.171875 72.90625 \nL 50.296875 10.40625 \nL 62.5 72.90625 \nL 72.125 72.90625 \nL 57.90625 0 \nL 44.578125 0 \nL 24.515625 62.890625 \nL 12.3125 0 \nL 2.6875 0 \nz\n\" id=\"DejaVuSans-Oblique-78\"/>\n     </defs>\n     <g style=\"fill:#555555;\" transform=\"translate(16.318125 145.64175)rotate(-90)scale(0.12 -0.12)\">\n      <use transform=\"translate(0 0.125)\" xlink:href=\"#DejaVuSans-Oblique-78\"/>\n      <use transform=\"translate(74.804688 0.125)\" xlink:href=\"#DejaVuSans-40\"/>\n      <use transform=\"translate(113.818359 0.125)\" xlink:href=\"#DejaVuSans-Oblique-120\"/>\n      <use transform=\"translate(172.998047 0.125)\" xlink:href=\"#DejaVuSans-41\"/>\n     </g>\n    </g>\n   </g>\n   <g id=\"LineCollection_1\">\n    <path clip-path=\"url(#p1949b284f0)\" d=\"M 64.119432 63.835164 \nL 64.119432 40.686568 \n\" style=\"fill:none;stroke:#000000;stroke-width:1.5;\"/>\n    <path clip-path=\"url(#p1949b284f0)\" d=\"M 70.330935 86.067626 \nL 70.330935 63.789088 \n\" style=\"fill:none;stroke:#000000;stroke-width:1.5;\"/>\n    <path clip-path=\"url(#p1949b284f0)\" d=\"M 76.542437 74.525926 \nL 76.542437 51.791471 \n\" style=\"fill:none;stroke:#000000;stroke-width:1.5;\"/>\n    <path clip-path=\"url(#p1949b284f0)\" d=\"M 82.75394 75.381024 \nL 82.75394 52.680026 \n\" style=\"fill:none;stroke:#000000;stroke-width:1.5;\"/>\n    <path clip-path=\"url(#p1949b284f0)\" d=\"M 88.965443 65.545936 \nL 88.965443 42.463103 \n\" style=\"fill:none;stroke:#000000;stroke-width:1.5;\"/>\n    <path clip-path=\"url(#p1949b284f0)\" d=\"M 95.176946 86.495007 \nL 95.176946 64.233534 \n\" style=\"fill:none;stroke:#000000;stroke-width:1.5;\"/>\n    <path clip-path=\"url(#p1949b284f0)\" d=\"M 101.388449 82.220907 \nL 101.388449 59.789367 \n\" style=\"fill:none;stroke:#000000;stroke-width:1.5;\"/>\n    <path clip-path=\"url(#p1949b284f0)\" d=\"M 107.599951 96.750145 \nL 107.599951 74.902233 \n\" style=\"fill:none;stroke:#000000;stroke-width:1.5;\"/>\n    <path clip-path=\"url(#p1949b284f0)\" d=\"M 113.811454 95.895699 \nL 113.811454 74.013026 \n\" style=\"fill:none;stroke:#000000;stroke-width:1.5;\"/>\n    <path clip-path=\"url(#p1949b284f0)\" d=\"M 120.022957 96.322925 \nL 120.022957 74.457626 \n\" style=\"fill:none;stroke:#000000;stroke-width:1.5;\"/>\n    <path clip-path=\"url(#p1949b284f0)\" d=\"M 126.23446 88.631812 \nL 126.23446 66.455862 \n\" style=\"fill:none;stroke:#000000;stroke-width:1.5;\"/>\n    <path clip-path=\"url(#p1949b284f0)\" d=\"M 132.445962 70.677684 \nL 132.445962 47.793274 \n\" style=\"fill:none;stroke:#000000;stroke-width:1.5;\"/>\n    <path clip-path=\"url(#p1949b284f0)\" d=\"M 138.657465 57.418948 \nL 138.657465 34.025386 \n\" style=\"fill:none;stroke:#000000;stroke-width:1.5;\"/>\n    <path clip-path=\"url(#p1949b284f0)\" d=\"M 144.868968 64.262866 \nL 144.868968 41.130693 \n\" style=\"fill:none;stroke:#000000;stroke-width:1.5;\"/>\n    <path clip-path=\"url(#p1949b284f0)\" d=\"M 151.080471 96.322925 \nL 151.080471 74.457626 \n\" style=\"fill:none;stroke:#000000;stroke-width:1.5;\"/>\n    <path clip-path=\"url(#p1949b284f0)\" d=\"M 157.291974 119.809246 \nL 157.291974 98.921766 \n\" style=\"fill:none;stroke:#000000;stroke-width:1.5;\"/>\n    <path clip-path=\"url(#p1949b284f0)\" d=\"M 163.503476 115.540694 \nL 163.503476 94.472053 \n\" style=\"fill:none;stroke:#000000;stroke-width:1.5;\"/>\n    <path clip-path=\"url(#p1949b284f0)\" d=\"M 169.714979 140.713285 \nL 169.714979 120.737229 \n\" style=\"fill:none;stroke:#000000;stroke-width:1.5;\"/>\n    <path clip-path=\"url(#p1949b284f0)\" d=\"M 175.926482 136.448828 \nL 175.926482 116.283421 \n\" style=\"fill:none;stroke:#000000;stroke-width:1.5;\"/>\n    <path clip-path=\"url(#p1949b284f0)\" d=\"M 182.137985 149.239455 \nL 182.137985 129.64759 \n\" style=\"fill:none;stroke:#000000;stroke-width:1.5;\"/>\n    <path clip-path=\"url(#p1949b284f0)\" d=\"M 188.349487 113.833056 \nL 188.349487 92.692385 \n\" style=\"fill:none;stroke:#000000;stroke-width:1.5;\"/>\n    <path clip-path=\"url(#p1949b284f0)\" d=\"M 194.56099 161.169584 \nL 194.56099 142.128605 \n\" style=\"fill:none;stroke:#000000;stroke-width:1.5;\"/>\n    <path clip-path=\"url(#p1949b284f0)\" d=\"M 200.772493 147.960769 \nL 200.772493 128.310796 \n\" style=\"fill:none;stroke:#000000;stroke-width:1.5;\"/>\n    <path clip-path=\"url(#p1949b284f0)\" d=\"M 206.983996 153.501114 \nL 206.983996 134.104197 \n\" style=\"fill:none;stroke:#000000;stroke-width:1.5;\"/>\n    <path clip-path=\"url(#p1949b284f0)\" d=\"M 213.195499 148.813236 \nL 213.195499 129.201983 \n\" style=\"fill:none;stroke:#000000;stroke-width:1.5;\"/>\n    <path clip-path=\"url(#p1949b284f0)\" d=\"M 219.407001 171.81457 \nL 219.407001 153.279283 \n\" style=\"fill:none;stroke:#000000;stroke-width:1.5;\"/>\n    <path clip-path=\"url(#p1949b284f0)\" d=\"M 225.618504 166.705827 \nL 225.618504 147.926108 \n\" style=\"fill:none;stroke:#000000;stroke-width:1.5;\"/>\n    <path clip-path=\"url(#p1949b284f0)\" d=\"M 231.830007 148.813236 \nL 231.830007 129.201983 \n\" style=\"fill:none;stroke:#000000;stroke-width:1.5;\"/>\n    <path clip-path=\"url(#p1949b284f0)\" d=\"M 238.04151 175.219496 \nL 238.04151 156.84897 \n\" style=\"fill:none;stroke:#000000;stroke-width:1.5;\"/>\n    <path clip-path=\"url(#p1949b284f0)\" d=\"M 244.253013 183.303168 \nL 244.253013 165.330003 \n\" style=\"fill:none;stroke:#000000;stroke-width:1.5;\"/>\n    <path clip-path=\"url(#p1949b284f0)\" d=\"M 250.464515 176.92168 \nL 250.464515 158.634092 \n\" style=\"fill:none;stroke:#000000;stroke-width:1.5;\"/>\n    <path clip-path=\"url(#p1949b284f0)\" d=\"M 256.676018 175.219496 \nL 256.676018 156.84897 \n\" style=\"fill:none;stroke:#000000;stroke-width:1.5;\"/>\n    <path clip-path=\"url(#p1949b284f0)\" d=\"M 262.887521 187.130726 \nL 262.887521 169.348883 \n\" style=\"fill:none;stroke:#000000;stroke-width:1.5;\"/>\n    <path clip-path=\"url(#p1949b284f0)\" d=\"M 269.099024 195.632635 \nL 269.099024 178.283505 \n\" style=\"fill:none;stroke:#000000;stroke-width:1.5;\"/>\n    <path clip-path=\"url(#p1949b284f0)\" d=\"M 275.310526 176.070611 \nL 275.310526 157.741507 \n\" style=\"fill:none;stroke:#000000;stroke-width:1.5;\"/>\n    <path clip-path=\"url(#p1949b284f0)\" d=\"M 281.522029 188.831531 \nL 281.522029 171.135385 \n\" style=\"fill:none;stroke:#000000;stroke-width:1.5;\"/>\n    <path clip-path=\"url(#p1949b284f0)\" d=\"M 287.733532 195.632635 \nL 287.733532 178.283505 \n\" style=\"fill:none;stroke:#000000;stroke-width:1.5;\"/>\n    <path clip-path=\"url(#p1949b284f0)\" d=\"M 293.945035 208.799494 \nL 293.945035 192.14327 \n\" style=\"fill:none;stroke:#000000;stroke-width:1.5;\"/>\n    <path clip-path=\"url(#p1949b284f0)\" d=\"M 300.156538 207.950453 \nL 300.156538 191.248658 \n\" style=\"fill:none;stroke:#000000;stroke-width:1.5;\"/>\n    <path clip-path=\"url(#p1949b284f0)\" d=\"M 306.36804 208.799494 \nL 306.36804 192.14327 \n\" style=\"fill:none;stroke:#000000;stroke-width:1.5;\"/>\n    <path clip-path=\"url(#p1949b284f0)\" d=\"M 312.579543 198.607017 \nL 312.579543 181.411909 \n\" style=\"fill:none;stroke:#000000;stroke-width:1.5;\"/>\n    <path clip-path=\"url(#p1949b284f0)\" d=\"M 318.791046 217.286377 \nL 318.791046 201.092918 \n\" style=\"fill:none;stroke:#000000;stroke-width:1.5;\"/>\n    <path clip-path=\"url(#p1949b284f0)\" d=\"M 325.002549 209.223991 \nL 325.002549 192.5906 \n\" style=\"fill:none;stroke:#000000;stroke-width:1.5;\"/>\n    <path clip-path=\"url(#p1949b284f0)\" d=\"M 331.214051 215.589527 \nL 331.214051 199.302462 \n\" style=\"fill:none;stroke:#000000;stroke-width:1.5;\"/>\n    <path clip-path=\"url(#p1949b284f0)\" d=\"M 337.425554 216.013765 \nL 337.425554 199.750051 \n\" style=\"fill:none;stroke:#000000;stroke-width:1.5;\"/>\n    <path clip-path=\"url(#p1949b284f0)\" d=\"M 343.637057 214.316713 \nL 343.637057 197.959797 \n\" style=\"fill:none;stroke:#000000;stroke-width:1.5;\"/>\n    <path clip-path=\"url(#p1949b284f0)\" d=\"M 349.84856 225.342619 \nL 349.84856 209.601381 \n\" style=\"fill:none;stroke:#000000;stroke-width:1.5;\"/>\n    <path clip-path=\"url(#p1949b284f0)\" d=\"M 356.060063 231.698114 \nL 356.060063 216.323285 \n\" style=\"fill:none;stroke:#000000;stroke-width:1.5;\"/>\n    <path clip-path=\"url(#p1949b284f0)\" d=\"M 362.271565 209.648472 \nL 362.271565 193.037945 \n\" style=\"fill:none;stroke:#000000;stroke-width:1.5;\"/>\n    <path clip-path=\"url(#p1949b284f0)\" d=\"M 368.483068 228.309053 \nL 368.483068 212.737733 \n\" style=\"fill:none;stroke:#000000;stroke-width:1.5;\"/>\n   </g>\n   <g id=\"line2d_23\">\n    <defs>\n     <path d=\"M 0 3 \nC 0.795609 3 1.55874 2.683901 2.12132 2.12132 \nC 2.683901 1.55874 3 0.795609 3 0 \nC 3 -0.795609 2.683901 -1.55874 2.12132 -2.12132 \nC 1.55874 -2.683901 0.795609 -3 0 -3 \nC -0.795609 -3 -1.55874 -2.683901 -2.12132 -2.12132 \nC -2.683901 -1.55874 -3 -0.795609 -3 0 \nC -3 0.795609 -2.683901 1.55874 -2.12132 2.12132 \nC -1.55874 2.683901 -0.795609 3 0 3 \nz\n\" id=\"m1ddae008a2\" style=\"stroke:#000000;\"/>\n    </defs>\n    <g clip-path=\"url(#p1949b284f0)\">\n     <use style=\"stroke:#000000;\" x=\"64.119432\" xlink:href=\"#m1ddae008a2\" y=\"52.260866\"/>\n     <use style=\"stroke:#000000;\" x=\"70.330935\" xlink:href=\"#m1ddae008a2\" y=\"74.928357\"/>\n     <use style=\"stroke:#000000;\" x=\"76.542437\" xlink:href=\"#m1ddae008a2\" y=\"63.158698\"/>\n     <use style=\"stroke:#000000;\" x=\"82.75394\" xlink:href=\"#m1ddae008a2\" y=\"64.030525\"/>\n     <use style=\"stroke:#000000;\" x=\"88.965443\" xlink:href=\"#m1ddae008a2\" y=\"54.004519\"/>\n     <use style=\"stroke:#000000;\" x=\"95.176946\" xlink:href=\"#m1ddae008a2\" y=\"75.36427\"/>\n     <use style=\"stroke:#000000;\" x=\"101.388449\" xlink:href=\"#m1ddae008a2\" y=\"71.005137\"/>\n     <use style=\"stroke:#000000;\" x=\"107.599951\" xlink:href=\"#m1ddae008a2\" y=\"85.826189\"/>\n     <use style=\"stroke:#000000;\" x=\"113.811454\" xlink:href=\"#m1ddae008a2\" y=\"84.954362\"/>\n     <use style=\"stroke:#000000;\" x=\"120.022957\" xlink:href=\"#m1ddae008a2\" y=\"85.390276\"/>\n     <use style=\"stroke:#000000;\" x=\"126.23446\" xlink:href=\"#m1ddae008a2\" y=\"77.543837\"/>\n     <use style=\"stroke:#000000;\" x=\"132.445962\" xlink:href=\"#m1ddae008a2\" y=\"59.235479\"/>\n     <use style=\"stroke:#000000;\" x=\"138.657465\" xlink:href=\"#m1ddae008a2\" y=\"45.722167\"/>\n     <use style=\"stroke:#000000;\" x=\"144.868968\" xlink:href=\"#m1ddae008a2\" y=\"52.69678\"/>\n     <use style=\"stroke:#000000;\" x=\"151.080471\" xlink:href=\"#m1ddae008a2\" y=\"85.390276\"/>\n     <use style=\"stroke:#000000;\" x=\"157.291974\" xlink:href=\"#m1ddae008a2\" y=\"109.365506\"/>\n     <use style=\"stroke:#000000;\" x=\"163.503476\" xlink:href=\"#m1ddae008a2\" y=\"105.006373\"/>\n     <use style=\"stroke:#000000;\" x=\"169.714979\" xlink:href=\"#m1ddae008a2\" y=\"130.725257\"/>\n     <use style=\"stroke:#000000;\" x=\"175.926482\" xlink:href=\"#m1ddae008a2\" y=\"126.366124\"/>\n     <use style=\"stroke:#000000;\" x=\"182.137985\" xlink:href=\"#m1ddae008a2\" y=\"139.443523\"/>\n     <use style=\"stroke:#000000;\" x=\"188.349487\" xlink:href=\"#m1ddae008a2\" y=\"103.26272\"/>\n     <use style=\"stroke:#000000;\" x=\"194.56099\" xlink:href=\"#m1ddae008a2\" y=\"151.649094\"/>\n     <use style=\"stroke:#000000;\" x=\"200.772493\" xlink:href=\"#m1ddae008a2\" y=\"138.135783\"/>\n     <use style=\"stroke:#000000;\" x=\"206.983996\" xlink:href=\"#m1ddae008a2\" y=\"143.802655\"/>\n     <use style=\"stroke:#000000;\" x=\"213.195499\" xlink:href=\"#m1ddae008a2\" y=\"139.007609\"/>\n     <use style=\"stroke:#000000;\" x=\"219.407001\" xlink:href=\"#m1ddae008a2\" y=\"162.546927\"/>\n     <use style=\"stroke:#000000;\" x=\"225.618504\" xlink:href=\"#m1ddae008a2\" y=\"157.315967\"/>\n     <use style=\"stroke:#000000;\" x=\"231.830007\" xlink:href=\"#m1ddae008a2\" y=\"139.007609\"/>\n     <use style=\"stroke:#000000;\" x=\"238.04151\" xlink:href=\"#m1ddae008a2\" y=\"166.034233\"/>\n     <use style=\"stroke:#000000;\" x=\"244.253013\" xlink:href=\"#m1ddae008a2\" y=\"174.316585\"/>\n     <use style=\"stroke:#000000;\" x=\"250.464515\" xlink:href=\"#m1ddae008a2\" y=\"167.777886\"/>\n     <use style=\"stroke:#000000;\" x=\"256.676018\" xlink:href=\"#m1ddae008a2\" y=\"166.034233\"/>\n     <use style=\"stroke:#000000;\" x=\"262.887521\" xlink:href=\"#m1ddae008a2\" y=\"178.239805\"/>\n     <use style=\"stroke:#000000;\" x=\"269.099024\" xlink:href=\"#m1ddae008a2\" y=\"186.95807\"/>\n     <use style=\"stroke:#000000;\" x=\"275.310526\" xlink:href=\"#m1ddae008a2\" y=\"166.906059\"/>\n     <use style=\"stroke:#000000;\" x=\"281.522029\" xlink:href=\"#m1ddae008a2\" y=\"179.983458\"/>\n     <use style=\"stroke:#000000;\" x=\"287.733532\" xlink:href=\"#m1ddae008a2\" y=\"186.95807\"/>\n     <use style=\"stroke:#000000;\" x=\"293.945035\" xlink:href=\"#m1ddae008a2\" y=\"200.471382\"/>\n     <use style=\"stroke:#000000;\" x=\"300.156538\" xlink:href=\"#m1ddae008a2\" y=\"199.599555\"/>\n     <use style=\"stroke:#000000;\" x=\"306.36804\" xlink:href=\"#m1ddae008a2\" y=\"200.471382\"/>\n     <use style=\"stroke:#000000;\" x=\"312.579543\" xlink:href=\"#m1ddae008a2\" y=\"190.009463\"/>\n     <use style=\"stroke:#000000;\" x=\"318.791046\" xlink:href=\"#m1ddae008a2\" y=\"209.189648\"/>\n     <use style=\"stroke:#000000;\" x=\"325.002549\" xlink:href=\"#m1ddae008a2\" y=\"200.907295\"/>\n     <use style=\"stroke:#000000;\" x=\"331.214051\" xlink:href=\"#m1ddae008a2\" y=\"207.445994\"/>\n     <use style=\"stroke:#000000;\" x=\"337.425554\" xlink:href=\"#m1ddae008a2\" y=\"207.881908\"/>\n     <use style=\"stroke:#000000;\" x=\"343.637057\" xlink:href=\"#m1ddae008a2\" y=\"206.138255\"/>\n     <use style=\"stroke:#000000;\" x=\"349.84856\" xlink:href=\"#m1ddae008a2\" y=\"217.472\"/>\n     <use style=\"stroke:#000000;\" x=\"356.060063\" xlink:href=\"#m1ddae008a2\" y=\"224.010699\"/>\n     <use style=\"stroke:#000000;\" x=\"362.271565\" xlink:href=\"#m1ddae008a2\" y=\"201.343209\"/>\n     <use style=\"stroke:#000000;\" x=\"368.483068\" xlink:href=\"#m1ddae008a2\" y=\"220.523393\"/>\n    </g>\n   </g>\n   <g id=\"patch_3\">\n    <path d=\"M 48.90125 241.58175 \nL 48.90125 24.14175 \n\" style=\"fill:none;stroke:#ffffff;stroke-linecap:square;stroke-linejoin:miter;\"/>\n   </g>\n   <g id=\"patch_4\">\n    <path d=\"M 383.70125 241.58175 \nL 383.70125 24.14175 \n\" style=\"fill:none;stroke:#ffffff;stroke-linecap:square;stroke-linejoin:miter;\"/>\n   </g>\n   <g id=\"patch_5\">\n    <path d=\"M 48.90125 241.58175 \nL 383.70125 241.58175 \n\" style=\"fill:none;stroke:#ffffff;stroke-linecap:square;stroke-linejoin:miter;\"/>\n   </g>\n   <g id=\"patch_6\">\n    <path d=\"M 48.90125 24.14175 \nL 383.70125 24.14175 \n\" style=\"fill:none;stroke:#ffffff;stroke-linecap:square;stroke-linejoin:miter;\"/>\n   </g>\n   <g id=\"text_14\">\n    <!-- Histogram with errorbar plot -->\n    <defs>\n     <path d=\"M 9.8125 72.90625 \nL 19.671875 72.90625 \nL 19.671875 43.015625 \nL 55.515625 43.015625 \nL 55.515625 72.90625 \nL 65.375 72.90625 \nL 65.375 0 \nL 55.515625 0 \nL 55.515625 34.71875 \nL 19.671875 34.71875 \nL 19.671875 0 \nL 9.8125 0 \nz\n\" id=\"DejaVuSans-72\"/>\n     <path d=\"M 44.28125 53.078125 \nL 44.28125 44.578125 \nQ 40.484375 46.53125 36.375 47.5 \nQ 32.28125 48.484375 27.875 48.484375 \nQ 21.1875 48.484375 17.84375 46.4375 \nQ 14.5 44.390625 14.5 40.28125 \nQ 14.5 37.15625 16.890625 35.375 \nQ 19.28125 33.59375 26.515625 31.984375 \nL 29.59375 31.296875 \nQ 39.15625 29.25 43.1875 25.515625 \nQ 47.21875 21.78125 47.21875 15.09375 \nQ 47.21875 7.46875 41.1875 3.015625 \nQ 35.15625 -1.421875 24.609375 -1.421875 \nQ 20.21875 -1.421875 15.453125 -0.5625 \nQ 10.6875 0.296875 5.421875 2 \nL 5.421875 11.28125 \nQ 10.40625 8.6875 15.234375 7.390625 \nQ 20.0625 6.109375 24.8125 6.109375 \nQ 31.15625 6.109375 34.5625 8.28125 \nQ 37.984375 10.453125 37.984375 14.40625 \nQ 37.984375 18.0625 35.515625 20.015625 \nQ 33.0625 21.96875 24.703125 23.78125 \nL 21.578125 24.515625 \nQ 13.234375 26.265625 9.515625 29.90625 \nQ 5.8125 33.546875 5.8125 39.890625 \nQ 5.8125 47.609375 11.28125 51.796875 \nQ 16.75 56 26.8125 56 \nQ 31.78125 56 36.171875 55.265625 \nQ 40.578125 54.546875 44.28125 53.078125 \nz\n\" id=\"DejaVuSans-115\"/>\n     <path d=\"M 18.3125 70.21875 \nL 18.3125 54.6875 \nL 36.8125 54.6875 \nL 36.8125 47.703125 \nL 18.3125 47.703125 \nL 18.3125 18.015625 \nQ 18.3125 11.328125 20.140625 9.421875 \nQ 21.96875 7.515625 27.59375 7.515625 \nL 36.8125 7.515625 \nL 36.8125 0 \nL 27.59375 0 \nQ 17.1875 0 13.234375 3.875 \nQ 9.28125 7.765625 9.28125 18.015625 \nL 9.28125 47.703125 \nL 2.6875 47.703125 \nL 2.6875 54.6875 \nL 9.28125 54.6875 \nL 9.28125 70.21875 \nz\n\" id=\"DejaVuSans-116\"/>\n     <path d=\"M 30.609375 48.390625 \nQ 23.390625 48.390625 19.1875 42.75 \nQ 14.984375 37.109375 14.984375 27.296875 \nQ 14.984375 17.484375 19.15625 11.84375 \nQ 23.34375 6.203125 30.609375 6.203125 \nQ 37.796875 6.203125 41.984375 11.859375 \nQ 46.1875 17.53125 46.1875 27.296875 \nQ 46.1875 37.015625 41.984375 42.703125 \nQ 37.796875 48.390625 30.609375 48.390625 \nz\nM 30.609375 56 \nQ 42.328125 56 49.015625 48.375 \nQ 55.71875 40.765625 55.71875 27.296875 \nQ 55.71875 13.875 49.015625 6.21875 \nQ 42.328125 -1.421875 30.609375 -1.421875 \nQ 18.84375 -1.421875 12.171875 6.21875 \nQ 5.515625 13.875 5.515625 27.296875 \nQ 5.515625 40.765625 12.171875 48.375 \nQ 18.84375 56 30.609375 56 \nz\n\" id=\"DejaVuSans-111\"/>\n     <path d=\"M 45.40625 27.984375 \nQ 45.40625 37.75 41.375 43.109375 \nQ 37.359375 48.484375 30.078125 48.484375 \nQ 22.859375 48.484375 18.828125 43.109375 \nQ 14.796875 37.75 14.796875 27.984375 \nQ 14.796875 18.265625 18.828125 12.890625 \nQ 22.859375 7.515625 30.078125 7.515625 \nQ 37.359375 7.515625 41.375 12.890625 \nQ 45.40625 18.265625 45.40625 27.984375 \nz\nM 54.390625 6.78125 \nQ 54.390625 -7.171875 48.1875 -13.984375 \nQ 42 -20.796875 29.203125 -20.796875 \nQ 24.46875 -20.796875 20.265625 -20.09375 \nQ 16.0625 -19.390625 12.109375 -17.921875 \nL 12.109375 -9.1875 \nQ 16.0625 -11.328125 19.921875 -12.34375 \nQ 23.78125 -13.375 27.78125 -13.375 \nQ 36.625 -13.375 41.015625 -8.765625 \nQ 45.40625 -4.15625 45.40625 5.171875 \nL 45.40625 9.625 \nQ 42.625 4.78125 38.28125 2.390625 \nQ 33.9375 0 27.875 0 \nQ 17.828125 0 11.671875 7.65625 \nQ 5.515625 15.328125 5.515625 27.984375 \nQ 5.515625 40.671875 11.671875 48.328125 \nQ 17.828125 56 27.875 56 \nQ 33.9375 56 38.28125 53.609375 \nQ 42.625 51.21875 45.40625 46.390625 \nL 45.40625 54.6875 \nL 54.390625 54.6875 \nz\n\" id=\"DejaVuSans-103\"/>\n     <path d=\"M 41.109375 46.296875 \nQ 39.59375 47.171875 37.8125 47.578125 \nQ 36.03125 48 33.890625 48 \nQ 26.265625 48 22.1875 43.046875 \nQ 18.109375 38.09375 18.109375 28.8125 \nL 18.109375 0 \nL 9.078125 0 \nL 9.078125 54.6875 \nL 18.109375 54.6875 \nL 18.109375 46.1875 \nQ 20.953125 51.171875 25.484375 53.578125 \nQ 30.03125 56 36.53125 56 \nQ 37.453125 56 38.578125 55.875 \nQ 39.703125 55.765625 41.0625 55.515625 \nz\n\" id=\"DejaVuSans-114\"/>\n     <path d=\"M 34.28125 27.484375 \nQ 23.390625 27.484375 19.1875 25 \nQ 14.984375 22.515625 14.984375 16.5 \nQ 14.984375 11.71875 18.140625 8.90625 \nQ 21.296875 6.109375 26.703125 6.109375 \nQ 34.1875 6.109375 38.703125 11.40625 \nQ 43.21875 16.703125 43.21875 25.484375 \nL 43.21875 27.484375 \nz\nM 52.203125 31.203125 \nL 52.203125 0 \nL 43.21875 0 \nL 43.21875 8.296875 \nQ 40.140625 3.328125 35.546875 0.953125 \nQ 30.953125 -1.421875 24.3125 -1.421875 \nQ 15.921875 -1.421875 10.953125 3.296875 \nQ 6 8.015625 6 15.921875 \nQ 6 25.140625 12.171875 29.828125 \nQ 18.359375 34.515625 30.609375 34.515625 \nL 43.21875 34.515625 \nL 43.21875 35.40625 \nQ 43.21875 41.609375 39.140625 45 \nQ 35.0625 48.390625 27.6875 48.390625 \nQ 23 48.390625 18.546875 47.265625 \nQ 14.109375 46.140625 10.015625 43.890625 \nL 10.015625 52.203125 \nQ 14.9375 54.109375 19.578125 55.046875 \nQ 24.21875 56 28.609375 56 \nQ 40.484375 56 46.34375 49.84375 \nQ 52.203125 43.703125 52.203125 31.203125 \nz\n\" id=\"DejaVuSans-97\"/>\n     <path d=\"M 52 44.1875 \nQ 55.375 50.25 60.0625 53.125 \nQ 64.75 56 71.09375 56 \nQ 79.640625 56 84.28125 50.015625 \nQ 88.921875 44.046875 88.921875 33.015625 \nL 88.921875 0 \nL 79.890625 0 \nL 79.890625 32.71875 \nQ 79.890625 40.578125 77.09375 44.375 \nQ 74.3125 48.1875 68.609375 48.1875 \nQ 61.625 48.1875 57.5625 43.546875 \nQ 53.515625 38.921875 53.515625 30.90625 \nL 53.515625 0 \nL 44.484375 0 \nL 44.484375 32.71875 \nQ 44.484375 40.625 41.703125 44.40625 \nQ 38.921875 48.1875 33.109375 48.1875 \nQ 26.21875 48.1875 22.15625 43.53125 \nQ 18.109375 38.875 18.109375 30.90625 \nL 18.109375 0 \nL 9.078125 0 \nL 9.078125 54.6875 \nL 18.109375 54.6875 \nL 18.109375 46.1875 \nQ 21.1875 51.21875 25.484375 53.609375 \nQ 29.78125 56 35.6875 56 \nQ 41.65625 56 45.828125 52.96875 \nQ 50 49.953125 52 44.1875 \nz\n\" id=\"DejaVuSans-109\"/>\n     <path d=\"M 4.203125 54.6875 \nL 13.1875 54.6875 \nL 24.421875 12.015625 \nL 35.59375 54.6875 \nL 46.1875 54.6875 \nL 57.421875 12.015625 \nL 68.609375 54.6875 \nL 77.59375 54.6875 \nL 63.28125 0 \nL 52.6875 0 \nL 40.921875 44.828125 \nL 29.109375 0 \nL 18.5 0 \nz\n\" id=\"DejaVuSans-119\"/>\n     <path d=\"M 54.890625 33.015625 \nL 54.890625 0 \nL 45.90625 0 \nL 45.90625 32.71875 \nQ 45.90625 40.484375 42.875 44.328125 \nQ 39.84375 48.1875 33.796875 48.1875 \nQ 26.515625 48.1875 22.3125 43.546875 \nQ 18.109375 38.921875 18.109375 30.90625 \nL 18.109375 0 \nL 9.078125 0 \nL 9.078125 75.984375 \nL 18.109375 75.984375 \nL 18.109375 46.1875 \nQ 21.34375 51.125 25.703125 53.5625 \nQ 30.078125 56 35.796875 56 \nQ 45.21875 56 50.046875 50.171875 \nQ 54.890625 44.34375 54.890625 33.015625 \nz\n\" id=\"DejaVuSans-104\"/>\n     <path d=\"M 48.6875 27.296875 \nQ 48.6875 37.203125 44.609375 42.84375 \nQ 40.53125 48.484375 33.40625 48.484375 \nQ 26.265625 48.484375 22.1875 42.84375 \nQ 18.109375 37.203125 18.109375 27.296875 \nQ 18.109375 17.390625 22.1875 11.75 \nQ 26.265625 6.109375 33.40625 6.109375 \nQ 40.53125 6.109375 44.609375 11.75 \nQ 48.6875 17.390625 48.6875 27.296875 \nz\nM 18.109375 46.390625 \nQ 20.953125 51.265625 25.265625 53.625 \nQ 29.59375 56 35.59375 56 \nQ 45.5625 56 51.78125 48.09375 \nQ 58.015625 40.1875 58.015625 27.296875 \nQ 58.015625 14.40625 51.78125 6.484375 \nQ 45.5625 -1.421875 35.59375 -1.421875 \nQ 29.59375 -1.421875 25.265625 0.953125 \nQ 20.953125 3.328125 18.109375 8.203125 \nL 18.109375 0 \nL 9.078125 0 \nL 9.078125 75.984375 \nL 18.109375 75.984375 \nz\n\" id=\"DejaVuSans-98\"/>\n     <path d=\"M 18.109375 8.203125 \nL 18.109375 -20.796875 \nL 9.078125 -20.796875 \nL 9.078125 54.6875 \nL 18.109375 54.6875 \nL 18.109375 46.390625 \nQ 20.953125 51.265625 25.265625 53.625 \nQ 29.59375 56 35.59375 56 \nQ 45.5625 56 51.78125 48.09375 \nQ 58.015625 40.1875 58.015625 27.296875 \nQ 58.015625 14.40625 51.78125 6.484375 \nQ 45.5625 -1.421875 35.59375 -1.421875 \nQ 29.59375 -1.421875 25.265625 0.953125 \nQ 20.953125 3.328125 18.109375 8.203125 \nz\nM 48.6875 27.296875 \nQ 48.6875 37.203125 44.609375 42.84375 \nQ 40.53125 48.484375 33.40625 48.484375 \nQ 26.265625 48.484375 22.1875 42.84375 \nQ 18.109375 37.203125 18.109375 27.296875 \nQ 18.109375 17.390625 22.1875 11.75 \nQ 26.265625 6.109375 33.40625 6.109375 \nQ 40.53125 6.109375 44.609375 11.75 \nQ 48.6875 17.390625 48.6875 27.296875 \nz\n\" id=\"DejaVuSans-112\"/>\n     <path d=\"M 9.421875 75.984375 \nL 18.40625 75.984375 \nL 18.40625 0 \nL 9.421875 0 \nz\n\" id=\"DejaVuSans-108\"/>\n    </defs>\n    <g transform=\"translate(113.64275 18.14175)scale(0.144 -0.144)\">\n     <use xlink:href=\"#DejaVuSans-72\"/>\n     <use x=\"75.195312\" xlink:href=\"#DejaVuSans-105\"/>\n     <use x=\"102.978516\" xlink:href=\"#DejaVuSans-115\"/>\n     <use x=\"155.078125\" xlink:href=\"#DejaVuSans-116\"/>\n     <use x=\"194.287109\" xlink:href=\"#DejaVuSans-111\"/>\n     <use x=\"255.46875\" xlink:href=\"#DejaVuSans-103\"/>\n     <use x=\"318.945312\" xlink:href=\"#DejaVuSans-114\"/>\n     <use x=\"360.058594\" xlink:href=\"#DejaVuSans-97\"/>\n     <use x=\"421.337891\" xlink:href=\"#DejaVuSans-109\"/>\n     <use x=\"518.75\" xlink:href=\"#DejaVuSans-32\"/>\n     <use x=\"550.537109\" xlink:href=\"#DejaVuSans-119\"/>\n     <use x=\"632.324219\" xlink:href=\"#DejaVuSans-105\"/>\n     <use x=\"660.107422\" xlink:href=\"#DejaVuSans-116\"/>\n     <use x=\"699.316406\" xlink:href=\"#DejaVuSans-104\"/>\n     <use x=\"762.695312\" xlink:href=\"#DejaVuSans-32\"/>\n     <use x=\"794.482422\" xlink:href=\"#DejaVuSans-101\"/>\n     <use x=\"856.005859\" xlink:href=\"#DejaVuSans-114\"/>\n     <use x=\"895.369141\" xlink:href=\"#DejaVuSans-114\"/>\n     <use x=\"934.232422\" xlink:href=\"#DejaVuSans-111\"/>\n     <use x=\"995.414062\" xlink:href=\"#DejaVuSans-114\"/>\n     <use x=\"1036.527344\" xlink:href=\"#DejaVuSans-98\"/>\n     <use x=\"1100.003906\" xlink:href=\"#DejaVuSans-97\"/>\n     <use x=\"1161.283203\" xlink:href=\"#DejaVuSans-114\"/>\n     <use x=\"1202.396484\" xlink:href=\"#DejaVuSans-32\"/>\n     <use x=\"1234.183594\" xlink:href=\"#DejaVuSans-112\"/>\n     <use x=\"1297.660156\" xlink:href=\"#DejaVuSans-108\"/>\n     <use x=\"1325.443359\" xlink:href=\"#DejaVuSans-111\"/>\n     <use x=\"1386.625\" xlink:href=\"#DejaVuSans-116\"/>\n    </g>\n   </g>\n  </g>\n </g>\n <defs>\n  <clipPath id=\"p1949b284f0\">\n   <rect height=\"217.44\" width=\"334.8\" x=\"48.90125\" y=\"24.14175\"/>\n  </clipPath>\n </defs>\n</svg>\n"
          },
          "metadata": {
            "tags": []
          }
        }
      ]
    },
    {
      "cell_type": "code",
      "metadata": {
        "id": "nssEMk5lDC7K",
        "colab": {
          "base_uri": "https://localhost:8080/",
          "height": 397
        },
        "outputId": "4f82eabe-e8ff-4fa7-b8e1-db4ea3980c89"
      },
      "source": [
        "# Define the bin normalisation to get a binned empirical probability distribution\n",
        "ndx = np.sum(y*np.mean(np.diff(xbin)))\n",
        "\n",
        "plt.errorbar(bin_centers,y/ndx,yerr=np.sqrt(y)/ndx,fmt='ko');\n",
        "plt.title('Errorbar plot for probability density estimation');\n",
        "plt.ylabel('$N(x)/n\\Delta{x}$');\n",
        "plt.xlabel('$x$ ($m_{\\gamma\\gamma}$ in GeV)');"
      ],
      "execution_count": 8,
      "outputs": [
        {
          "output_type": "display_data",
          "data": {
            "text/plain": [
              "<Figure size 432x288 with 1 Axes>"
            ],
            "image/svg+xml": "<?xml version=\"1.0\" encoding=\"utf-8\" standalone=\"no\"?>\n<!DOCTYPE svg PUBLIC \"-//W3C//DTD SVG 1.1//EN\"\n  \"http://www.w3.org/Graphics/SVG/1.1/DTD/svg11.dtd\">\n<!-- Created with matplotlib (https://matplotlib.org/) -->\n<svg height=\"282.299875pt\" version=\"1.1\" viewBox=\"0 0 400.705125 282.299875\" width=\"400.705125pt\" xmlns=\"http://www.w3.org/2000/svg\" xmlns:xlink=\"http://www.w3.org/1999/xlink\">\n <defs>\n  <style type=\"text/css\">\n*{stroke-linecap:butt;stroke-linejoin:round;}\n  </style>\n </defs>\n <g id=\"figure_1\">\n  <g id=\"patch_1\">\n   <path d=\"M 0 282.299875 \nL 400.705125 282.299875 \nL 400.705125 0 \nL 0 0 \nz\n\" style=\"fill:#ffffff;\"/>\n  </g>\n  <g id=\"axes_1\">\n   <g id=\"patch_2\">\n    <path d=\"M 58.441875 241.58175 \nL 393.241875 241.58175 \nL 393.241875 24.14175 \nL 58.441875 24.14175 \nz\n\" style=\"fill:#e5e5e5;\"/>\n   </g>\n   <g id=\"matplotlib.axis_1\">\n    <g id=\"xtick_1\">\n     <g id=\"line2d_1\">\n      <path clip-path=\"url(#p8251fc387b)\" d=\"M 70.554305 241.58175 \nL 70.554305 24.14175 \n\" style=\"fill:none;stroke:#ffffff;stroke-linecap:square;stroke-width:0.8;\"/>\n     </g>\n     <g id=\"line2d_2\">\n      <defs>\n       <path d=\"M 0 0 \nL 0 3.5 \n\" id=\"m34f90b8998\" style=\"stroke:#555555;stroke-width:0.8;\"/>\n      </defs>\n      <g>\n       <use style=\"fill:#555555;stroke:#555555;stroke-width:0.8;\" x=\"70.554305\" xlink:href=\"#m34f90b8998\" y=\"241.58175\"/>\n      </g>\n     </g>\n     <g id=\"text_1\">\n      <!-- 100 -->\n      <defs>\n       <path d=\"M 12.40625 8.296875 \nL 28.515625 8.296875 \nL 28.515625 63.921875 \nL 10.984375 60.40625 \nL 10.984375 69.390625 \nL 28.421875 72.90625 \nL 38.28125 72.90625 \nL 38.28125 8.296875 \nL 54.390625 8.296875 \nL 54.390625 0 \nL 12.40625 0 \nz\n\" id=\"DejaVuSans-49\"/>\n       <path d=\"M 31.78125 66.40625 \nQ 24.171875 66.40625 20.328125 58.90625 \nQ 16.5 51.421875 16.5 36.375 \nQ 16.5 21.390625 20.328125 13.890625 \nQ 24.171875 6.390625 31.78125 6.390625 \nQ 39.453125 6.390625 43.28125 13.890625 \nQ 47.125 21.390625 47.125 36.375 \nQ 47.125 51.421875 43.28125 58.90625 \nQ 39.453125 66.40625 31.78125 66.40625 \nz\nM 31.78125 74.21875 \nQ 44.046875 74.21875 50.515625 64.515625 \nQ 56.984375 54.828125 56.984375 36.375 \nQ 56.984375 17.96875 50.515625 8.265625 \nQ 44.046875 -1.421875 31.78125 -1.421875 \nQ 19.53125 -1.421875 13.0625 8.265625 \nQ 6.59375 17.96875 6.59375 36.375 \nQ 6.59375 54.828125 13.0625 64.515625 \nQ 19.53125 74.21875 31.78125 74.21875 \nz\n\" id=\"DejaVuSans-48\"/>\n      </defs>\n      <g style=\"fill:#555555;\" transform=\"translate(61.010555 256.180188)scale(0.1 -0.1)\">\n       <use xlink:href=\"#DejaVuSans-49\"/>\n       <use x=\"63.623047\" xlink:href=\"#DejaVuSans-48\"/>\n       <use x=\"127.246094\" xlink:href=\"#DejaVuSans-48\"/>\n      </g>\n     </g>\n    </g>\n    <g id=\"xtick_2\">\n     <g id=\"line2d_3\">\n      <path clip-path=\"url(#p8251fc387b)\" d=\"M 132.669333 241.58175 \nL 132.669333 24.14175 \n\" style=\"fill:none;stroke:#ffffff;stroke-linecap:square;stroke-width:0.8;\"/>\n     </g>\n     <g id=\"line2d_4\">\n      <g>\n       <use style=\"fill:#555555;stroke:#555555;stroke-width:0.8;\" x=\"132.669333\" xlink:href=\"#m34f90b8998\" y=\"241.58175\"/>\n      </g>\n     </g>\n     <g id=\"text_2\">\n      <!-- 120 -->\n      <defs>\n       <path d=\"M 19.1875 8.296875 \nL 53.609375 8.296875 \nL 53.609375 0 \nL 7.328125 0 \nL 7.328125 8.296875 \nQ 12.9375 14.109375 22.625 23.890625 \nQ 32.328125 33.6875 34.8125 36.53125 \nQ 39.546875 41.84375 41.421875 45.53125 \nQ 43.3125 49.21875 43.3125 52.78125 \nQ 43.3125 58.59375 39.234375 62.25 \nQ 35.15625 65.921875 28.609375 65.921875 \nQ 23.96875 65.921875 18.8125 64.3125 \nQ 13.671875 62.703125 7.8125 59.421875 \nL 7.8125 69.390625 \nQ 13.765625 71.78125 18.9375 73 \nQ 24.125 74.21875 28.421875 74.21875 \nQ 39.75 74.21875 46.484375 68.546875 \nQ 53.21875 62.890625 53.21875 53.421875 \nQ 53.21875 48.921875 51.53125 44.890625 \nQ 49.859375 40.875 45.40625 35.40625 \nQ 44.1875 33.984375 37.640625 27.21875 \nQ 31.109375 20.453125 19.1875 8.296875 \nz\n\" id=\"DejaVuSans-50\"/>\n      </defs>\n      <g style=\"fill:#555555;\" transform=\"translate(123.125583 256.180188)scale(0.1 -0.1)\">\n       <use xlink:href=\"#DejaVuSans-49\"/>\n       <use x=\"63.623047\" xlink:href=\"#DejaVuSans-50\"/>\n       <use x=\"127.246094\" xlink:href=\"#DejaVuSans-48\"/>\n      </g>\n     </g>\n    </g>\n    <g id=\"xtick_3\">\n     <g id=\"line2d_5\">\n      <path clip-path=\"url(#p8251fc387b)\" d=\"M 194.784361 241.58175 \nL 194.784361 24.14175 \n\" style=\"fill:none;stroke:#ffffff;stroke-linecap:square;stroke-width:0.8;\"/>\n     </g>\n     <g id=\"line2d_6\">\n      <g>\n       <use style=\"fill:#555555;stroke:#555555;stroke-width:0.8;\" x=\"194.784361\" xlink:href=\"#m34f90b8998\" y=\"241.58175\"/>\n      </g>\n     </g>\n     <g id=\"text_3\">\n      <!-- 140 -->\n      <defs>\n       <path d=\"M 37.796875 64.3125 \nL 12.890625 25.390625 \nL 37.796875 25.390625 \nz\nM 35.203125 72.90625 \nL 47.609375 72.90625 \nL 47.609375 25.390625 \nL 58.015625 25.390625 \nL 58.015625 17.1875 \nL 47.609375 17.1875 \nL 47.609375 0 \nL 37.796875 0 \nL 37.796875 17.1875 \nL 4.890625 17.1875 \nL 4.890625 26.703125 \nz\n\" id=\"DejaVuSans-52\"/>\n      </defs>\n      <g style=\"fill:#555555;\" transform=\"translate(185.240611 256.180188)scale(0.1 -0.1)\">\n       <use xlink:href=\"#DejaVuSans-49\"/>\n       <use x=\"63.623047\" xlink:href=\"#DejaVuSans-52\"/>\n       <use x=\"127.246094\" xlink:href=\"#DejaVuSans-48\"/>\n      </g>\n     </g>\n    </g>\n    <g id=\"xtick_4\">\n     <g id=\"line2d_7\">\n      <path clip-path=\"url(#p8251fc387b)\" d=\"M 256.899389 241.58175 \nL 256.899389 24.14175 \n\" style=\"fill:none;stroke:#ffffff;stroke-linecap:square;stroke-width:0.8;\"/>\n     </g>\n     <g id=\"line2d_8\">\n      <g>\n       <use style=\"fill:#555555;stroke:#555555;stroke-width:0.8;\" x=\"256.899389\" xlink:href=\"#m34f90b8998\" y=\"241.58175\"/>\n      </g>\n     </g>\n     <g id=\"text_4\">\n      <!-- 160 -->\n      <defs>\n       <path d=\"M 33.015625 40.375 \nQ 26.375 40.375 22.484375 35.828125 \nQ 18.609375 31.296875 18.609375 23.390625 \nQ 18.609375 15.53125 22.484375 10.953125 \nQ 26.375 6.390625 33.015625 6.390625 \nQ 39.65625 6.390625 43.53125 10.953125 \nQ 47.40625 15.53125 47.40625 23.390625 \nQ 47.40625 31.296875 43.53125 35.828125 \nQ 39.65625 40.375 33.015625 40.375 \nz\nM 52.59375 71.296875 \nL 52.59375 62.3125 \nQ 48.875 64.0625 45.09375 64.984375 \nQ 41.3125 65.921875 37.59375 65.921875 \nQ 27.828125 65.921875 22.671875 59.328125 \nQ 17.53125 52.734375 16.796875 39.40625 \nQ 19.671875 43.65625 24.015625 45.921875 \nQ 28.375 48.1875 33.59375 48.1875 \nQ 44.578125 48.1875 50.953125 41.515625 \nQ 57.328125 34.859375 57.328125 23.390625 \nQ 57.328125 12.15625 50.6875 5.359375 \nQ 44.046875 -1.421875 33.015625 -1.421875 \nQ 20.359375 -1.421875 13.671875 8.265625 \nQ 6.984375 17.96875 6.984375 36.375 \nQ 6.984375 53.65625 15.1875 63.9375 \nQ 23.390625 74.21875 37.203125 74.21875 \nQ 40.921875 74.21875 44.703125 73.484375 \nQ 48.484375 72.75 52.59375 71.296875 \nz\n\" id=\"DejaVuSans-54\"/>\n      </defs>\n      <g style=\"fill:#555555;\" transform=\"translate(247.355639 256.180188)scale(0.1 -0.1)\">\n       <use xlink:href=\"#DejaVuSans-49\"/>\n       <use x=\"63.623047\" xlink:href=\"#DejaVuSans-54\"/>\n       <use x=\"127.246094\" xlink:href=\"#DejaVuSans-48\"/>\n      </g>\n     </g>\n    </g>\n    <g id=\"xtick_5\">\n     <g id=\"line2d_9\">\n      <path clip-path=\"url(#p8251fc387b)\" d=\"M 319.014417 241.58175 \nL 319.014417 24.14175 \n\" style=\"fill:none;stroke:#ffffff;stroke-linecap:square;stroke-width:0.8;\"/>\n     </g>\n     <g id=\"line2d_10\">\n      <g>\n       <use style=\"fill:#555555;stroke:#555555;stroke-width:0.8;\" x=\"319.014417\" xlink:href=\"#m34f90b8998\" y=\"241.58175\"/>\n      </g>\n     </g>\n     <g id=\"text_5\">\n      <!-- 180 -->\n      <defs>\n       <path d=\"M 31.78125 34.625 \nQ 24.75 34.625 20.71875 30.859375 \nQ 16.703125 27.09375 16.703125 20.515625 \nQ 16.703125 13.921875 20.71875 10.15625 \nQ 24.75 6.390625 31.78125 6.390625 \nQ 38.8125 6.390625 42.859375 10.171875 \nQ 46.921875 13.96875 46.921875 20.515625 \nQ 46.921875 27.09375 42.890625 30.859375 \nQ 38.875 34.625 31.78125 34.625 \nz\nM 21.921875 38.8125 \nQ 15.578125 40.375 12.03125 44.71875 \nQ 8.5 49.078125 8.5 55.328125 \nQ 8.5 64.0625 14.71875 69.140625 \nQ 20.953125 74.21875 31.78125 74.21875 \nQ 42.671875 74.21875 48.875 69.140625 \nQ 55.078125 64.0625 55.078125 55.328125 \nQ 55.078125 49.078125 51.53125 44.71875 \nQ 48 40.375 41.703125 38.8125 \nQ 48.828125 37.15625 52.796875 32.3125 \nQ 56.78125 27.484375 56.78125 20.515625 \nQ 56.78125 9.90625 50.3125 4.234375 \nQ 43.84375 -1.421875 31.78125 -1.421875 \nQ 19.734375 -1.421875 13.25 4.234375 \nQ 6.78125 9.90625 6.78125 20.515625 \nQ 6.78125 27.484375 10.78125 32.3125 \nQ 14.796875 37.15625 21.921875 38.8125 \nz\nM 18.3125 54.390625 \nQ 18.3125 48.734375 21.84375 45.5625 \nQ 25.390625 42.390625 31.78125 42.390625 \nQ 38.140625 42.390625 41.71875 45.5625 \nQ 45.3125 48.734375 45.3125 54.390625 \nQ 45.3125 60.0625 41.71875 63.234375 \nQ 38.140625 66.40625 31.78125 66.40625 \nQ 25.390625 66.40625 21.84375 63.234375 \nQ 18.3125 60.0625 18.3125 54.390625 \nz\n\" id=\"DejaVuSans-56\"/>\n      </defs>\n      <g style=\"fill:#555555;\" transform=\"translate(309.470667 256.180188)scale(0.1 -0.1)\">\n       <use xlink:href=\"#DejaVuSans-49\"/>\n       <use x=\"63.623047\" xlink:href=\"#DejaVuSans-56\"/>\n       <use x=\"127.246094\" xlink:href=\"#DejaVuSans-48\"/>\n      </g>\n     </g>\n    </g>\n    <g id=\"xtick_6\">\n     <g id=\"line2d_11\">\n      <path clip-path=\"url(#p8251fc387b)\" d=\"M 381.129445 241.58175 \nL 381.129445 24.14175 \n\" style=\"fill:none;stroke:#ffffff;stroke-linecap:square;stroke-width:0.8;\"/>\n     </g>\n     <g id=\"line2d_12\">\n      <g>\n       <use style=\"fill:#555555;stroke:#555555;stroke-width:0.8;\" x=\"381.129445\" xlink:href=\"#m34f90b8998\" y=\"241.58175\"/>\n      </g>\n     </g>\n     <g id=\"text_6\">\n      <!-- 200 -->\n      <g style=\"fill:#555555;\" transform=\"translate(371.585695 256.180188)scale(0.1 -0.1)\">\n       <use xlink:href=\"#DejaVuSans-50\"/>\n       <use x=\"63.623047\" xlink:href=\"#DejaVuSans-48\"/>\n       <use x=\"127.246094\" xlink:href=\"#DejaVuSans-48\"/>\n      </g>\n     </g>\n    </g>\n    <g id=\"text_7\">\n     <!-- $x$ ($m_{\\gamma\\gamma}$ in GeV) -->\n     <defs>\n      <path d=\"M 60.015625 54.6875 \nL 34.90625 27.875 \nL 50.296875 0 \nL 39.984375 0 \nL 28.421875 21.6875 \nL 8.296875 0 \nL -2.59375 0 \nL 24.3125 28.8125 \nL 10.015625 54.6875 \nL 20.3125 54.6875 \nL 30.8125 34.90625 \nL 49.125 54.6875 \nz\n\" id=\"DejaVuSans-Oblique-120\"/>\n      <path id=\"DejaVuSans-32\"/>\n      <path d=\"M 31 75.875 \nQ 24.46875 64.65625 21.28125 53.65625 \nQ 18.109375 42.671875 18.109375 31.390625 \nQ 18.109375 20.125 21.3125 9.0625 \nQ 24.515625 -2 31 -13.1875 \nL 23.1875 -13.1875 \nQ 15.875 -1.703125 12.234375 9.375 \nQ 8.59375 20.453125 8.59375 31.390625 \nQ 8.59375 42.28125 12.203125 53.3125 \nQ 15.828125 64.359375 23.1875 75.875 \nz\n\" id=\"DejaVuSans-40\"/>\n      <path d=\"M 89.796875 33.015625 \nL 83.40625 0 \nL 74.421875 0 \nL 80.71875 32.71875 \nQ 81.109375 34.8125 81.296875 36.328125 \nQ 81.5 37.84375 81.5 38.921875 \nQ 81.5 43.3125 79.046875 45.75 \nQ 76.609375 48.1875 72.21875 48.1875 \nQ 65.671875 48.1875 60.546875 43.28125 \nQ 55.421875 38.375 53.90625 30.515625 \nL 47.90625 0 \nL 38.921875 0 \nL 45.3125 32.71875 \nQ 45.703125 34.515625 45.890625 36.046875 \nQ 46.09375 37.59375 46.09375 38.8125 \nQ 46.09375 43.265625 43.65625 45.71875 \nQ 41.21875 48.1875 36.921875 48.1875 \nQ 30.28125 48.1875 25.140625 43.28125 \nQ 20.015625 38.375 18.5 30.515625 \nL 12.5 0 \nL 3.515625 0 \nL 14.203125 54.6875 \nL 23.1875 54.6875 \nL 21.484375 46.1875 \nQ 25.140625 50.984375 30.046875 53.484375 \nQ 34.96875 56 40.578125 56 \nQ 46.53125 56 50.359375 52.875 \nQ 54.203125 49.75 54.984375 44.1875 \nQ 59.078125 49.953125 64.46875 52.96875 \nQ 69.875 56 75.875 56 \nQ 82.90625 56 86.734375 51.953125 \nQ 90.578125 47.90625 90.578125 40.484375 \nQ 90.578125 38.875 90.375 36.9375 \nQ 90.1875 35.015625 89.796875 33.015625 \nz\n\" id=\"DejaVuSans-Oblique-109\"/>\n      <path d=\"M 23.296875 46.09375 \nL 28.71875 12.3125 \nL 54 54.6875 \nL 63.53125 54.6875 \nL 30.8125 0 \nL 26.765625 -20.796875 \nL 17.78125 -20.796875 \nL 21.828125 0 \nL 15.4375 40.828125 \nQ 14.453125 46.96875 9.8125 46.96875 \nL 7.421875 46.96875 \nL 8.890625 54.6875 \nL 12.3125 54.6875 \nQ 21.921875 54.6875 23.296875 46.09375 \nz\n\" id=\"DejaVuSans-Oblique-947\"/>\n      <path d=\"M 9.421875 54.6875 \nL 18.40625 54.6875 \nL 18.40625 0 \nL 9.421875 0 \nz\nM 9.421875 75.984375 \nL 18.40625 75.984375 \nL 18.40625 64.59375 \nL 9.421875 64.59375 \nz\n\" id=\"DejaVuSans-105\"/>\n      <path d=\"M 54.890625 33.015625 \nL 54.890625 0 \nL 45.90625 0 \nL 45.90625 32.71875 \nQ 45.90625 40.484375 42.875 44.328125 \nQ 39.84375 48.1875 33.796875 48.1875 \nQ 26.515625 48.1875 22.3125 43.546875 \nQ 18.109375 38.921875 18.109375 30.90625 \nL 18.109375 0 \nL 9.078125 0 \nL 9.078125 54.6875 \nL 18.109375 54.6875 \nL 18.109375 46.1875 \nQ 21.34375 51.125 25.703125 53.5625 \nQ 30.078125 56 35.796875 56 \nQ 45.21875 56 50.046875 50.171875 \nQ 54.890625 44.34375 54.890625 33.015625 \nz\n\" id=\"DejaVuSans-110\"/>\n      <path d=\"M 59.515625 10.40625 \nL 59.515625 29.984375 \nL 43.40625 29.984375 \nL 43.40625 38.09375 \nL 69.28125 38.09375 \nL 69.28125 6.78125 \nQ 63.578125 2.734375 56.6875 0.65625 \nQ 49.8125 -1.421875 42 -1.421875 \nQ 24.90625 -1.421875 15.25 8.5625 \nQ 5.609375 18.5625 5.609375 36.375 \nQ 5.609375 54.25 15.25 64.234375 \nQ 24.90625 74.21875 42 74.21875 \nQ 49.125 74.21875 55.546875 72.453125 \nQ 61.96875 70.703125 67.390625 67.28125 \nL 67.390625 56.78125 \nQ 61.921875 61.421875 55.765625 63.765625 \nQ 49.609375 66.109375 42.828125 66.109375 \nQ 29.4375 66.109375 22.71875 58.640625 \nQ 16.015625 51.171875 16.015625 36.375 \nQ 16.015625 21.625 22.71875 14.15625 \nQ 29.4375 6.6875 42.828125 6.6875 \nQ 48.046875 6.6875 52.140625 7.59375 \nQ 56.25 8.5 59.515625 10.40625 \nz\n\" id=\"DejaVuSans-71\"/>\n      <path d=\"M 56.203125 29.59375 \nL 56.203125 25.203125 \nL 14.890625 25.203125 \nQ 15.484375 15.921875 20.484375 11.0625 \nQ 25.484375 6.203125 34.421875 6.203125 \nQ 39.59375 6.203125 44.453125 7.46875 \nQ 49.3125 8.734375 54.109375 11.28125 \nL 54.109375 2.78125 \nQ 49.265625 0.734375 44.1875 -0.34375 \nQ 39.109375 -1.421875 33.890625 -1.421875 \nQ 20.796875 -1.421875 13.15625 6.1875 \nQ 5.515625 13.8125 5.515625 26.8125 \nQ 5.515625 40.234375 12.765625 48.109375 \nQ 20.015625 56 32.328125 56 \nQ 43.359375 56 49.78125 48.890625 \nQ 56.203125 41.796875 56.203125 29.59375 \nz\nM 47.21875 32.234375 \nQ 47.125 39.59375 43.09375 43.984375 \nQ 39.0625 48.390625 32.421875 48.390625 \nQ 24.90625 48.390625 20.390625 44.140625 \nQ 15.875 39.890625 15.1875 32.171875 \nz\n\" id=\"DejaVuSans-101\"/>\n      <path d=\"M 28.609375 0 \nL 0.78125 72.90625 \nL 11.078125 72.90625 \nL 34.1875 11.53125 \nL 57.328125 72.90625 \nL 67.578125 72.90625 \nL 39.796875 0 \nz\n\" id=\"DejaVuSans-86\"/>\n      <path d=\"M 8.015625 75.875 \nL 15.828125 75.875 \nQ 23.140625 64.359375 26.78125 53.3125 \nQ 30.421875 42.28125 30.421875 31.390625 \nQ 30.421875 20.453125 26.78125 9.375 \nQ 23.140625 -1.703125 15.828125 -13.1875 \nL 8.015625 -13.1875 \nQ 14.5 -2 17.703125 9.0625 \nQ 20.90625 20.125 20.90625 31.390625 \nQ 20.90625 42.671875 17.703125 53.65625 \nQ 14.5 64.65625 8.015625 75.875 \nz\n\" id=\"DejaVuSans-41\"/>\n     </defs>\n     <g style=\"fill:#555555;\" transform=\"translate(182.941875 271.379875)scale(0.12 -0.12)\">\n      <use transform=\"translate(0 0.015625)\" xlink:href=\"#DejaVuSans-Oblique-120\"/>\n      <use transform=\"translate(59.179688 0.015625)\" xlink:href=\"#DejaVuSans-32\"/>\n      <use transform=\"translate(90.966797 0.015625)\" xlink:href=\"#DejaVuSans-40\"/>\n      <use transform=\"translate(129.980469 0.015625)\" xlink:href=\"#DejaVuSans-Oblique-109\"/>\n      <use transform=\"translate(227.392578 -16.390625)scale(0.7)\" xlink:href=\"#DejaVuSans-Oblique-947\"/>\n      <use transform=\"translate(268.818359 -16.390625)scale(0.7)\" xlink:href=\"#DejaVuSans-Oblique-947\"/>\n      <use transform=\"translate(312.978516 0.015625)\" xlink:href=\"#DejaVuSans-32\"/>\n      <use transform=\"translate(344.765625 0.015625)\" xlink:href=\"#DejaVuSans-105\"/>\n      <use transform=\"translate(372.548828 0.015625)\" xlink:href=\"#DejaVuSans-110\"/>\n      <use transform=\"translate(435.927734 0.015625)\" xlink:href=\"#DejaVuSans-32\"/>\n      <use transform=\"translate(467.714844 0.015625)\" xlink:href=\"#DejaVuSans-71\"/>\n      <use transform=\"translate(545.205078 0.015625)\" xlink:href=\"#DejaVuSans-101\"/>\n      <use transform=\"translate(606.728516 0.015625)\" xlink:href=\"#DejaVuSans-86\"/>\n      <use transform=\"translate(675.136719 0.015625)\" xlink:href=\"#DejaVuSans-41\"/>\n     </g>\n    </g>\n   </g>\n   <g id=\"matplotlib.axis_2\">\n    <g id=\"ytick_1\">\n     <g id=\"line2d_13\">\n      <path clip-path=\"url(#p8251fc387b)\" d=\"M 58.441875 228.261726 \nL 393.241875 228.261726 \n\" style=\"fill:none;stroke:#ffffff;stroke-linecap:square;stroke-width:0.8;\"/>\n     </g>\n     <g id=\"line2d_14\">\n      <defs>\n       <path d=\"M 0 0 \nL -3.5 0 \n\" id=\"m7edf8c853d\" style=\"stroke:#555555;stroke-width:0.8;\"/>\n      </defs>\n      <g>\n       <use style=\"fill:#555555;stroke:#555555;stroke-width:0.8;\" x=\"58.441875\" xlink:href=\"#m7edf8c853d\" y=\"228.261726\"/>\n      </g>\n     </g>\n     <g id=\"text_8\">\n      <!-- 0.006 -->\n      <defs>\n       <path d=\"M 10.6875 12.40625 \nL 21 12.40625 \nL 21 0 \nL 10.6875 0 \nz\n\" id=\"DejaVuSans-46\"/>\n      </defs>\n      <g style=\"fill:#555555;\" transform=\"translate(22.81375 232.060944)scale(0.1 -0.1)\">\n       <use xlink:href=\"#DejaVuSans-48\"/>\n       <use x=\"63.623047\" xlink:href=\"#DejaVuSans-46\"/>\n       <use x=\"95.410156\" xlink:href=\"#DejaVuSans-48\"/>\n       <use x=\"159.033203\" xlink:href=\"#DejaVuSans-48\"/>\n       <use x=\"222.65625\" xlink:href=\"#DejaVuSans-54\"/>\n      </g>\n     </g>\n    </g>\n    <g id=\"ytick_2\">\n     <g id=\"line2d_15\">\n      <path clip-path=\"url(#p8251fc387b)\" d=\"M 58.441875 184.489057 \nL 393.241875 184.489057 \n\" style=\"fill:none;stroke:#ffffff;stroke-linecap:square;stroke-width:0.8;\"/>\n     </g>\n     <g id=\"line2d_16\">\n      <g>\n       <use style=\"fill:#555555;stroke:#555555;stroke-width:0.8;\" x=\"58.441875\" xlink:href=\"#m7edf8c853d\" y=\"184.489057\"/>\n      </g>\n     </g>\n     <g id=\"text_9\">\n      <!-- 0.008 -->\n      <g style=\"fill:#555555;\" transform=\"translate(22.81375 188.288276)scale(0.1 -0.1)\">\n       <use xlink:href=\"#DejaVuSans-48\"/>\n       <use x=\"63.623047\" xlink:href=\"#DejaVuSans-46\"/>\n       <use x=\"95.410156\" xlink:href=\"#DejaVuSans-48\"/>\n       <use x=\"159.033203\" xlink:href=\"#DejaVuSans-48\"/>\n       <use x=\"222.65625\" xlink:href=\"#DejaVuSans-56\"/>\n      </g>\n     </g>\n    </g>\n    <g id=\"ytick_3\">\n     <g id=\"line2d_17\">\n      <path clip-path=\"url(#p8251fc387b)\" d=\"M 58.441875 140.716389 \nL 393.241875 140.716389 \n\" style=\"fill:none;stroke:#ffffff;stroke-linecap:square;stroke-width:0.8;\"/>\n     </g>\n     <g id=\"line2d_18\">\n      <g>\n       <use style=\"fill:#555555;stroke:#555555;stroke-width:0.8;\" x=\"58.441875\" xlink:href=\"#m7edf8c853d\" y=\"140.716389\"/>\n      </g>\n     </g>\n     <g id=\"text_10\">\n      <!-- 0.010 -->\n      <g style=\"fill:#555555;\" transform=\"translate(22.81375 144.515608)scale(0.1 -0.1)\">\n       <use xlink:href=\"#DejaVuSans-48\"/>\n       <use x=\"63.623047\" xlink:href=\"#DejaVuSans-46\"/>\n       <use x=\"95.410156\" xlink:href=\"#DejaVuSans-48\"/>\n       <use x=\"159.033203\" xlink:href=\"#DejaVuSans-49\"/>\n       <use x=\"222.65625\" xlink:href=\"#DejaVuSans-48\"/>\n      </g>\n     </g>\n    </g>\n    <g id=\"ytick_4\">\n     <g id=\"line2d_19\">\n      <path clip-path=\"url(#p8251fc387b)\" d=\"M 58.441875 96.943721 \nL 393.241875 96.943721 \n\" style=\"fill:none;stroke:#ffffff;stroke-linecap:square;stroke-width:0.8;\"/>\n     </g>\n     <g id=\"line2d_20\">\n      <g>\n       <use style=\"fill:#555555;stroke:#555555;stroke-width:0.8;\" x=\"58.441875\" xlink:href=\"#m7edf8c853d\" y=\"96.943721\"/>\n      </g>\n     </g>\n     <g id=\"text_11\">\n      <!-- 0.012 -->\n      <g style=\"fill:#555555;\" transform=\"translate(22.81375 100.74294)scale(0.1 -0.1)\">\n       <use xlink:href=\"#DejaVuSans-48\"/>\n       <use x=\"63.623047\" xlink:href=\"#DejaVuSans-46\"/>\n       <use x=\"95.410156\" xlink:href=\"#DejaVuSans-48\"/>\n       <use x=\"159.033203\" xlink:href=\"#DejaVuSans-49\"/>\n       <use x=\"222.65625\" xlink:href=\"#DejaVuSans-50\"/>\n      </g>\n     </g>\n    </g>\n    <g id=\"ytick_5\">\n     <g id=\"line2d_21\">\n      <path clip-path=\"url(#p8251fc387b)\" d=\"M 58.441875 53.171053 \nL 393.241875 53.171053 \n\" style=\"fill:none;stroke:#ffffff;stroke-linecap:square;stroke-width:0.8;\"/>\n     </g>\n     <g id=\"line2d_22\">\n      <g>\n       <use style=\"fill:#555555;stroke:#555555;stroke-width:0.8;\" x=\"58.441875\" xlink:href=\"#m7edf8c853d\" y=\"53.171053\"/>\n      </g>\n     </g>\n     <g id=\"text_12\">\n      <!-- 0.014 -->\n      <g style=\"fill:#555555;\" transform=\"translate(22.81375 56.970272)scale(0.1 -0.1)\">\n       <use xlink:href=\"#DejaVuSans-48\"/>\n       <use x=\"63.623047\" xlink:href=\"#DejaVuSans-46\"/>\n       <use x=\"95.410156\" xlink:href=\"#DejaVuSans-48\"/>\n       <use x=\"159.033203\" xlink:href=\"#DejaVuSans-49\"/>\n       <use x=\"222.65625\" xlink:href=\"#DejaVuSans-52\"/>\n      </g>\n     </g>\n    </g>\n    <g id=\"text_13\">\n     <!-- $N(x)/n\\Delta{x}$ -->\n     <defs>\n      <path d=\"M 16.890625 72.90625 \nL 30.171875 72.90625 \nL 50.296875 10.40625 \nL 62.5 72.90625 \nL 72.125 72.90625 \nL 57.90625 0 \nL 44.578125 0 \nL 24.515625 62.890625 \nL 12.3125 0 \nL 2.6875 0 \nz\n\" id=\"DejaVuSans-Oblique-78\"/>\n      <path d=\"M 25.390625 72.90625 \nL 33.6875 72.90625 \nL 8.296875 -9.28125 \nL 0 -9.28125 \nz\n\" id=\"DejaVuSans-47\"/>\n      <path d=\"M 55.71875 33.015625 \nL 49.3125 0 \nL 40.28125 0 \nL 46.6875 32.671875 \nQ 47.125 34.96875 47.359375 36.71875 \nQ 47.609375 38.484375 47.609375 39.5 \nQ 47.609375 43.609375 45.015625 45.890625 \nQ 42.4375 48.1875 37.796875 48.1875 \nQ 30.5625 48.1875 25.34375 43.375 \nQ 20.125 38.578125 18.5 30.328125 \nL 12.5 0 \nL 3.515625 0 \nL 14.109375 54.6875 \nL 23.09375 54.6875 \nL 21.296875 46.09375 \nQ 25.046875 50.828125 30.3125 53.40625 \nQ 35.59375 56 41.40625 56 \nQ 48.640625 56 52.609375 52.09375 \nQ 56.59375 48.1875 56.59375 41.109375 \nQ 56.59375 39.359375 56.375 37.359375 \nQ 56.15625 35.359375 55.71875 33.015625 \nz\n\" id=\"DejaVuSans-Oblique-110\"/>\n      <path d=\"M 34.1875 63.1875 \nL 14.15625 8.203125 \nL 54.25 8.203125 \nz\nM 0.78125 0 \nL 28.609375 72.90625 \nL 39.796875 72.90625 \nL 67.578125 0 \nz\n\" id=\"DejaVuSans-916\"/>\n     </defs>\n     <g style=\"fill:#555555;\" transform=\"translate(16.318125 159.08175)rotate(-90)scale(0.12 -0.12)\">\n      <use transform=\"translate(0 0.125)\" xlink:href=\"#DejaVuSans-Oblique-78\"/>\n      <use transform=\"translate(74.804688 0.125)\" xlink:href=\"#DejaVuSans-40\"/>\n      <use transform=\"translate(113.818359 0.125)\" xlink:href=\"#DejaVuSans-Oblique-120\"/>\n      <use transform=\"translate(172.998047 0.125)\" xlink:href=\"#DejaVuSans-41\"/>\n      <use transform=\"translate(212.011719 0.125)\" xlink:href=\"#DejaVuSans-47\"/>\n      <use transform=\"translate(245.703125 0.125)\" xlink:href=\"#DejaVuSans-Oblique-110\"/>\n      <use transform=\"translate(309.082031 0.125)\" xlink:href=\"#DejaVuSans-916\"/>\n      <use transform=\"translate(377.490234 0.125)\" xlink:href=\"#DejaVuSans-Oblique-120\"/>\n     </g>\n    </g>\n   </g>\n   <g id=\"LineCollection_1\">\n    <path clip-path=\"url(#p8251fc387b)\" d=\"M 73.660057 63.835164 \nL 73.660057 40.686568 \n\" style=\"fill:none;stroke:#000000;stroke-width:1.5;\"/>\n    <path clip-path=\"url(#p8251fc387b)\" d=\"M 79.87156 86.067626 \nL 79.87156 63.789088 \n\" style=\"fill:none;stroke:#000000;stroke-width:1.5;\"/>\n    <path clip-path=\"url(#p8251fc387b)\" d=\"M 86.083062 74.525926 \nL 86.083062 51.791471 \n\" style=\"fill:none;stroke:#000000;stroke-width:1.5;\"/>\n    <path clip-path=\"url(#p8251fc387b)\" d=\"M 92.294565 75.381024 \nL 92.294565 52.680026 \n\" style=\"fill:none;stroke:#000000;stroke-width:1.5;\"/>\n    <path clip-path=\"url(#p8251fc387b)\" d=\"M 98.506068 65.545936 \nL 98.506068 42.463103 \n\" style=\"fill:none;stroke:#000000;stroke-width:1.5;\"/>\n    <path clip-path=\"url(#p8251fc387b)\" d=\"M 104.717571 86.495007 \nL 104.717571 64.233534 \n\" style=\"fill:none;stroke:#000000;stroke-width:1.5;\"/>\n    <path clip-path=\"url(#p8251fc387b)\" d=\"M 110.929074 82.220907 \nL 110.929074 59.789367 \n\" style=\"fill:none;stroke:#000000;stroke-width:1.5;\"/>\n    <path clip-path=\"url(#p8251fc387b)\" d=\"M 117.140576 96.750145 \nL 117.140576 74.902233 \n\" style=\"fill:none;stroke:#000000;stroke-width:1.5;\"/>\n    <path clip-path=\"url(#p8251fc387b)\" d=\"M 123.352079 95.895699 \nL 123.352079 74.013026 \n\" style=\"fill:none;stroke:#000000;stroke-width:1.5;\"/>\n    <path clip-path=\"url(#p8251fc387b)\" d=\"M 129.563582 96.322925 \nL 129.563582 74.457626 \n\" style=\"fill:none;stroke:#000000;stroke-width:1.5;\"/>\n    <path clip-path=\"url(#p8251fc387b)\" d=\"M 135.775085 88.631812 \nL 135.775085 66.455862 \n\" style=\"fill:none;stroke:#000000;stroke-width:1.5;\"/>\n    <path clip-path=\"url(#p8251fc387b)\" d=\"M 141.986587 70.677684 \nL 141.986587 47.793274 \n\" style=\"fill:none;stroke:#000000;stroke-width:1.5;\"/>\n    <path clip-path=\"url(#p8251fc387b)\" d=\"M 148.19809 57.418948 \nL 148.19809 34.025386 \n\" style=\"fill:none;stroke:#000000;stroke-width:1.5;\"/>\n    <path clip-path=\"url(#p8251fc387b)\" d=\"M 154.409593 64.262866 \nL 154.409593 41.130693 \n\" style=\"fill:none;stroke:#000000;stroke-width:1.5;\"/>\n    <path clip-path=\"url(#p8251fc387b)\" d=\"M 160.621096 96.322925 \nL 160.621096 74.457626 \n\" style=\"fill:none;stroke:#000000;stroke-width:1.5;\"/>\n    <path clip-path=\"url(#p8251fc387b)\" d=\"M 166.832599 119.809246 \nL 166.832599 98.921766 \n\" style=\"fill:none;stroke:#000000;stroke-width:1.5;\"/>\n    <path clip-path=\"url(#p8251fc387b)\" d=\"M 173.044101 115.540694 \nL 173.044101 94.472053 \n\" style=\"fill:none;stroke:#000000;stroke-width:1.5;\"/>\n    <path clip-path=\"url(#p8251fc387b)\" d=\"M 179.255604 140.713285 \nL 179.255604 120.737229 \n\" style=\"fill:none;stroke:#000000;stroke-width:1.5;\"/>\n    <path clip-path=\"url(#p8251fc387b)\" d=\"M 185.467107 136.448828 \nL 185.467107 116.283421 \n\" style=\"fill:none;stroke:#000000;stroke-width:1.5;\"/>\n    <path clip-path=\"url(#p8251fc387b)\" d=\"M 191.67861 149.239455 \nL 191.67861 129.64759 \n\" style=\"fill:none;stroke:#000000;stroke-width:1.5;\"/>\n    <path clip-path=\"url(#p8251fc387b)\" d=\"M 197.890112 113.833056 \nL 197.890112 92.692385 \n\" style=\"fill:none;stroke:#000000;stroke-width:1.5;\"/>\n    <path clip-path=\"url(#p8251fc387b)\" d=\"M 204.101615 161.169584 \nL 204.101615 142.128605 \n\" style=\"fill:none;stroke:#000000;stroke-width:1.5;\"/>\n    <path clip-path=\"url(#p8251fc387b)\" d=\"M 210.313118 147.960769 \nL 210.313118 128.310796 \n\" style=\"fill:none;stroke:#000000;stroke-width:1.5;\"/>\n    <path clip-path=\"url(#p8251fc387b)\" d=\"M 216.524621 153.501114 \nL 216.524621 134.104197 \n\" style=\"fill:none;stroke:#000000;stroke-width:1.5;\"/>\n    <path clip-path=\"url(#p8251fc387b)\" d=\"M 222.736124 148.813236 \nL 222.736124 129.201983 \n\" style=\"fill:none;stroke:#000000;stroke-width:1.5;\"/>\n    <path clip-path=\"url(#p8251fc387b)\" d=\"M 228.947626 171.81457 \nL 228.947626 153.279283 \n\" style=\"fill:none;stroke:#000000;stroke-width:1.5;\"/>\n    <path clip-path=\"url(#p8251fc387b)\" d=\"M 235.159129 166.705827 \nL 235.159129 147.926108 \n\" style=\"fill:none;stroke:#000000;stroke-width:1.5;\"/>\n    <path clip-path=\"url(#p8251fc387b)\" d=\"M 241.370632 148.813236 \nL 241.370632 129.201983 \n\" style=\"fill:none;stroke:#000000;stroke-width:1.5;\"/>\n    <path clip-path=\"url(#p8251fc387b)\" d=\"M 247.582135 175.219496 \nL 247.582135 156.84897 \n\" style=\"fill:none;stroke:#000000;stroke-width:1.5;\"/>\n    <path clip-path=\"url(#p8251fc387b)\" d=\"M 253.793638 183.303168 \nL 253.793638 165.330003 \n\" style=\"fill:none;stroke:#000000;stroke-width:1.5;\"/>\n    <path clip-path=\"url(#p8251fc387b)\" d=\"M 260.00514 176.92168 \nL 260.00514 158.634092 \n\" style=\"fill:none;stroke:#000000;stroke-width:1.5;\"/>\n    <path clip-path=\"url(#p8251fc387b)\" d=\"M 266.216643 175.219496 \nL 266.216643 156.84897 \n\" style=\"fill:none;stroke:#000000;stroke-width:1.5;\"/>\n    <path clip-path=\"url(#p8251fc387b)\" d=\"M 272.428146 187.130726 \nL 272.428146 169.348883 \n\" style=\"fill:none;stroke:#000000;stroke-width:1.5;\"/>\n    <path clip-path=\"url(#p8251fc387b)\" d=\"M 278.639649 195.632635 \nL 278.639649 178.283505 \n\" style=\"fill:none;stroke:#000000;stroke-width:1.5;\"/>\n    <path clip-path=\"url(#p8251fc387b)\" d=\"M 284.851151 176.070611 \nL 284.851151 157.741507 \n\" style=\"fill:none;stroke:#000000;stroke-width:1.5;\"/>\n    <path clip-path=\"url(#p8251fc387b)\" d=\"M 291.062654 188.831531 \nL 291.062654 171.135385 \n\" style=\"fill:none;stroke:#000000;stroke-width:1.5;\"/>\n    <path clip-path=\"url(#p8251fc387b)\" d=\"M 297.274157 195.632635 \nL 297.274157 178.283505 \n\" style=\"fill:none;stroke:#000000;stroke-width:1.5;\"/>\n    <path clip-path=\"url(#p8251fc387b)\" d=\"M 303.48566 208.799494 \nL 303.48566 192.14327 \n\" style=\"fill:none;stroke:#000000;stroke-width:1.5;\"/>\n    <path clip-path=\"url(#p8251fc387b)\" d=\"M 309.697163 207.950453 \nL 309.697163 191.248658 \n\" style=\"fill:none;stroke:#000000;stroke-width:1.5;\"/>\n    <path clip-path=\"url(#p8251fc387b)\" d=\"M 315.908665 208.799494 \nL 315.908665 192.14327 \n\" style=\"fill:none;stroke:#000000;stroke-width:1.5;\"/>\n    <path clip-path=\"url(#p8251fc387b)\" d=\"M 322.120168 198.607017 \nL 322.120168 181.411909 \n\" style=\"fill:none;stroke:#000000;stroke-width:1.5;\"/>\n    <path clip-path=\"url(#p8251fc387b)\" d=\"M 328.331671 217.286377 \nL 328.331671 201.092918 \n\" style=\"fill:none;stroke:#000000;stroke-width:1.5;\"/>\n    <path clip-path=\"url(#p8251fc387b)\" d=\"M 334.543174 209.223991 \nL 334.543174 192.5906 \n\" style=\"fill:none;stroke:#000000;stroke-width:1.5;\"/>\n    <path clip-path=\"url(#p8251fc387b)\" d=\"M 340.754676 215.589527 \nL 340.754676 199.302462 \n\" style=\"fill:none;stroke:#000000;stroke-width:1.5;\"/>\n    <path clip-path=\"url(#p8251fc387b)\" d=\"M 346.966179 216.013765 \nL 346.966179 199.750051 \n\" style=\"fill:none;stroke:#000000;stroke-width:1.5;\"/>\n    <path clip-path=\"url(#p8251fc387b)\" d=\"M 353.177682 214.316713 \nL 353.177682 197.959797 \n\" style=\"fill:none;stroke:#000000;stroke-width:1.5;\"/>\n    <path clip-path=\"url(#p8251fc387b)\" d=\"M 359.389185 225.342619 \nL 359.389185 209.601381 \n\" style=\"fill:none;stroke:#000000;stroke-width:1.5;\"/>\n    <path clip-path=\"url(#p8251fc387b)\" d=\"M 365.600688 231.698114 \nL 365.600688 216.323285 \n\" style=\"fill:none;stroke:#000000;stroke-width:1.5;\"/>\n    <path clip-path=\"url(#p8251fc387b)\" d=\"M 371.81219 209.648472 \nL 371.81219 193.037945 \n\" style=\"fill:none;stroke:#000000;stroke-width:1.5;\"/>\n    <path clip-path=\"url(#p8251fc387b)\" d=\"M 378.023693 228.309053 \nL 378.023693 212.737733 \n\" style=\"fill:none;stroke:#000000;stroke-width:1.5;\"/>\n   </g>\n   <g id=\"line2d_23\">\n    <defs>\n     <path d=\"M 0 3 \nC 0.795609 3 1.55874 2.683901 2.12132 2.12132 \nC 2.683901 1.55874 3 0.795609 3 0 \nC 3 -0.795609 2.683901 -1.55874 2.12132 -2.12132 \nC 1.55874 -2.683901 0.795609 -3 0 -3 \nC -0.795609 -3 -1.55874 -2.683901 -2.12132 -2.12132 \nC -2.683901 -1.55874 -3 -0.795609 -3 0 \nC -3 0.795609 -2.683901 1.55874 -2.12132 2.12132 \nC -1.55874 2.683901 -0.795609 3 0 3 \nz\n\" id=\"mea5164607c\" style=\"stroke:#000000;\"/>\n    </defs>\n    <g clip-path=\"url(#p8251fc387b)\">\n     <use style=\"stroke:#000000;\" x=\"73.660057\" xlink:href=\"#mea5164607c\" y=\"52.260866\"/>\n     <use style=\"stroke:#000000;\" x=\"79.87156\" xlink:href=\"#mea5164607c\" y=\"74.928357\"/>\n     <use style=\"stroke:#000000;\" x=\"86.083062\" xlink:href=\"#mea5164607c\" y=\"63.158698\"/>\n     <use style=\"stroke:#000000;\" x=\"92.294565\" xlink:href=\"#mea5164607c\" y=\"64.030525\"/>\n     <use style=\"stroke:#000000;\" x=\"98.506068\" xlink:href=\"#mea5164607c\" y=\"54.004519\"/>\n     <use style=\"stroke:#000000;\" x=\"104.717571\" xlink:href=\"#mea5164607c\" y=\"75.36427\"/>\n     <use style=\"stroke:#000000;\" x=\"110.929074\" xlink:href=\"#mea5164607c\" y=\"71.005137\"/>\n     <use style=\"stroke:#000000;\" x=\"117.140576\" xlink:href=\"#mea5164607c\" y=\"85.826189\"/>\n     <use style=\"stroke:#000000;\" x=\"123.352079\" xlink:href=\"#mea5164607c\" y=\"84.954362\"/>\n     <use style=\"stroke:#000000;\" x=\"129.563582\" xlink:href=\"#mea5164607c\" y=\"85.390276\"/>\n     <use style=\"stroke:#000000;\" x=\"135.775085\" xlink:href=\"#mea5164607c\" y=\"77.543837\"/>\n     <use style=\"stroke:#000000;\" x=\"141.986587\" xlink:href=\"#mea5164607c\" y=\"59.235479\"/>\n     <use style=\"stroke:#000000;\" x=\"148.19809\" xlink:href=\"#mea5164607c\" y=\"45.722167\"/>\n     <use style=\"stroke:#000000;\" x=\"154.409593\" xlink:href=\"#mea5164607c\" y=\"52.69678\"/>\n     <use style=\"stroke:#000000;\" x=\"160.621096\" xlink:href=\"#mea5164607c\" y=\"85.390276\"/>\n     <use style=\"stroke:#000000;\" x=\"166.832599\" xlink:href=\"#mea5164607c\" y=\"109.365506\"/>\n     <use style=\"stroke:#000000;\" x=\"173.044101\" xlink:href=\"#mea5164607c\" y=\"105.006373\"/>\n     <use style=\"stroke:#000000;\" x=\"179.255604\" xlink:href=\"#mea5164607c\" y=\"130.725257\"/>\n     <use style=\"stroke:#000000;\" x=\"185.467107\" xlink:href=\"#mea5164607c\" y=\"126.366124\"/>\n     <use style=\"stroke:#000000;\" x=\"191.67861\" xlink:href=\"#mea5164607c\" y=\"139.443523\"/>\n     <use style=\"stroke:#000000;\" x=\"197.890112\" xlink:href=\"#mea5164607c\" y=\"103.26272\"/>\n     <use style=\"stroke:#000000;\" x=\"204.101615\" xlink:href=\"#mea5164607c\" y=\"151.649094\"/>\n     <use style=\"stroke:#000000;\" x=\"210.313118\" xlink:href=\"#mea5164607c\" y=\"138.135783\"/>\n     <use style=\"stroke:#000000;\" x=\"216.524621\" xlink:href=\"#mea5164607c\" y=\"143.802655\"/>\n     <use style=\"stroke:#000000;\" x=\"222.736124\" xlink:href=\"#mea5164607c\" y=\"139.007609\"/>\n     <use style=\"stroke:#000000;\" x=\"228.947626\" xlink:href=\"#mea5164607c\" y=\"162.546927\"/>\n     <use style=\"stroke:#000000;\" x=\"235.159129\" xlink:href=\"#mea5164607c\" y=\"157.315967\"/>\n     <use style=\"stroke:#000000;\" x=\"241.370632\" xlink:href=\"#mea5164607c\" y=\"139.007609\"/>\n     <use style=\"stroke:#000000;\" x=\"247.582135\" xlink:href=\"#mea5164607c\" y=\"166.034233\"/>\n     <use style=\"stroke:#000000;\" x=\"253.793638\" xlink:href=\"#mea5164607c\" y=\"174.316585\"/>\n     <use style=\"stroke:#000000;\" x=\"260.00514\" xlink:href=\"#mea5164607c\" y=\"167.777886\"/>\n     <use style=\"stroke:#000000;\" x=\"266.216643\" xlink:href=\"#mea5164607c\" y=\"166.034233\"/>\n     <use style=\"stroke:#000000;\" x=\"272.428146\" xlink:href=\"#mea5164607c\" y=\"178.239805\"/>\n     <use style=\"stroke:#000000;\" x=\"278.639649\" xlink:href=\"#mea5164607c\" y=\"186.95807\"/>\n     <use style=\"stroke:#000000;\" x=\"284.851151\" xlink:href=\"#mea5164607c\" y=\"166.906059\"/>\n     <use style=\"stroke:#000000;\" x=\"291.062654\" xlink:href=\"#mea5164607c\" y=\"179.983458\"/>\n     <use style=\"stroke:#000000;\" x=\"297.274157\" xlink:href=\"#mea5164607c\" y=\"186.95807\"/>\n     <use style=\"stroke:#000000;\" x=\"303.48566\" xlink:href=\"#mea5164607c\" y=\"200.471382\"/>\n     <use style=\"stroke:#000000;\" x=\"309.697163\" xlink:href=\"#mea5164607c\" y=\"199.599555\"/>\n     <use style=\"stroke:#000000;\" x=\"315.908665\" xlink:href=\"#mea5164607c\" y=\"200.471382\"/>\n     <use style=\"stroke:#000000;\" x=\"322.120168\" xlink:href=\"#mea5164607c\" y=\"190.009463\"/>\n     <use style=\"stroke:#000000;\" x=\"328.331671\" xlink:href=\"#mea5164607c\" y=\"209.189648\"/>\n     <use style=\"stroke:#000000;\" x=\"334.543174\" xlink:href=\"#mea5164607c\" y=\"200.907295\"/>\n     <use style=\"stroke:#000000;\" x=\"340.754676\" xlink:href=\"#mea5164607c\" y=\"207.445994\"/>\n     <use style=\"stroke:#000000;\" x=\"346.966179\" xlink:href=\"#mea5164607c\" y=\"207.881908\"/>\n     <use style=\"stroke:#000000;\" x=\"353.177682\" xlink:href=\"#mea5164607c\" y=\"206.138255\"/>\n     <use style=\"stroke:#000000;\" x=\"359.389185\" xlink:href=\"#mea5164607c\" y=\"217.472\"/>\n     <use style=\"stroke:#000000;\" x=\"365.600688\" xlink:href=\"#mea5164607c\" y=\"224.010699\"/>\n     <use style=\"stroke:#000000;\" x=\"371.81219\" xlink:href=\"#mea5164607c\" y=\"201.343209\"/>\n     <use style=\"stroke:#000000;\" x=\"378.023693\" xlink:href=\"#mea5164607c\" y=\"220.523393\"/>\n    </g>\n   </g>\n   <g id=\"patch_3\">\n    <path d=\"M 58.441875 241.58175 \nL 58.441875 24.14175 \n\" style=\"fill:none;stroke:#ffffff;stroke-linecap:square;stroke-linejoin:miter;\"/>\n   </g>\n   <g id=\"patch_4\">\n    <path d=\"M 393.241875 241.58175 \nL 393.241875 24.14175 \n\" style=\"fill:none;stroke:#ffffff;stroke-linecap:square;stroke-linejoin:miter;\"/>\n   </g>\n   <g id=\"patch_5\">\n    <path d=\"M 58.441875 241.58175 \nL 393.241875 241.58175 \n\" style=\"fill:none;stroke:#ffffff;stroke-linecap:square;stroke-linejoin:miter;\"/>\n   </g>\n   <g id=\"patch_6\">\n    <path d=\"M 58.441875 24.14175 \nL 393.241875 24.14175 \n\" style=\"fill:none;stroke:#ffffff;stroke-linecap:square;stroke-linejoin:miter;\"/>\n   </g>\n   <g id=\"text_14\">\n    <!-- Errorbar plot for probability density estimation -->\n    <defs>\n     <path d=\"M 9.8125 72.90625 \nL 55.90625 72.90625 \nL 55.90625 64.59375 \nL 19.671875 64.59375 \nL 19.671875 43.015625 \nL 54.390625 43.015625 \nL 54.390625 34.71875 \nL 19.671875 34.71875 \nL 19.671875 8.296875 \nL 56.78125 8.296875 \nL 56.78125 0 \nL 9.8125 0 \nz\n\" id=\"DejaVuSans-69\"/>\n     <path d=\"M 41.109375 46.296875 \nQ 39.59375 47.171875 37.8125 47.578125 \nQ 36.03125 48 33.890625 48 \nQ 26.265625 48 22.1875 43.046875 \nQ 18.109375 38.09375 18.109375 28.8125 \nL 18.109375 0 \nL 9.078125 0 \nL 9.078125 54.6875 \nL 18.109375 54.6875 \nL 18.109375 46.1875 \nQ 20.953125 51.171875 25.484375 53.578125 \nQ 30.03125 56 36.53125 56 \nQ 37.453125 56 38.578125 55.875 \nQ 39.703125 55.765625 41.0625 55.515625 \nz\n\" id=\"DejaVuSans-114\"/>\n     <path d=\"M 30.609375 48.390625 \nQ 23.390625 48.390625 19.1875 42.75 \nQ 14.984375 37.109375 14.984375 27.296875 \nQ 14.984375 17.484375 19.15625 11.84375 \nQ 23.34375 6.203125 30.609375 6.203125 \nQ 37.796875 6.203125 41.984375 11.859375 \nQ 46.1875 17.53125 46.1875 27.296875 \nQ 46.1875 37.015625 41.984375 42.703125 \nQ 37.796875 48.390625 30.609375 48.390625 \nz\nM 30.609375 56 \nQ 42.328125 56 49.015625 48.375 \nQ 55.71875 40.765625 55.71875 27.296875 \nQ 55.71875 13.875 49.015625 6.21875 \nQ 42.328125 -1.421875 30.609375 -1.421875 \nQ 18.84375 -1.421875 12.171875 6.21875 \nQ 5.515625 13.875 5.515625 27.296875 \nQ 5.515625 40.765625 12.171875 48.375 \nQ 18.84375 56 30.609375 56 \nz\n\" id=\"DejaVuSans-111\"/>\n     <path d=\"M 48.6875 27.296875 \nQ 48.6875 37.203125 44.609375 42.84375 \nQ 40.53125 48.484375 33.40625 48.484375 \nQ 26.265625 48.484375 22.1875 42.84375 \nQ 18.109375 37.203125 18.109375 27.296875 \nQ 18.109375 17.390625 22.1875 11.75 \nQ 26.265625 6.109375 33.40625 6.109375 \nQ 40.53125 6.109375 44.609375 11.75 \nQ 48.6875 17.390625 48.6875 27.296875 \nz\nM 18.109375 46.390625 \nQ 20.953125 51.265625 25.265625 53.625 \nQ 29.59375 56 35.59375 56 \nQ 45.5625 56 51.78125 48.09375 \nQ 58.015625 40.1875 58.015625 27.296875 \nQ 58.015625 14.40625 51.78125 6.484375 \nQ 45.5625 -1.421875 35.59375 -1.421875 \nQ 29.59375 -1.421875 25.265625 0.953125 \nQ 20.953125 3.328125 18.109375 8.203125 \nL 18.109375 0 \nL 9.078125 0 \nL 9.078125 75.984375 \nL 18.109375 75.984375 \nz\n\" id=\"DejaVuSans-98\"/>\n     <path d=\"M 34.28125 27.484375 \nQ 23.390625 27.484375 19.1875 25 \nQ 14.984375 22.515625 14.984375 16.5 \nQ 14.984375 11.71875 18.140625 8.90625 \nQ 21.296875 6.109375 26.703125 6.109375 \nQ 34.1875 6.109375 38.703125 11.40625 \nQ 43.21875 16.703125 43.21875 25.484375 \nL 43.21875 27.484375 \nz\nM 52.203125 31.203125 \nL 52.203125 0 \nL 43.21875 0 \nL 43.21875 8.296875 \nQ 40.140625 3.328125 35.546875 0.953125 \nQ 30.953125 -1.421875 24.3125 -1.421875 \nQ 15.921875 -1.421875 10.953125 3.296875 \nQ 6 8.015625 6 15.921875 \nQ 6 25.140625 12.171875 29.828125 \nQ 18.359375 34.515625 30.609375 34.515625 \nL 43.21875 34.515625 \nL 43.21875 35.40625 \nQ 43.21875 41.609375 39.140625 45 \nQ 35.0625 48.390625 27.6875 48.390625 \nQ 23 48.390625 18.546875 47.265625 \nQ 14.109375 46.140625 10.015625 43.890625 \nL 10.015625 52.203125 \nQ 14.9375 54.109375 19.578125 55.046875 \nQ 24.21875 56 28.609375 56 \nQ 40.484375 56 46.34375 49.84375 \nQ 52.203125 43.703125 52.203125 31.203125 \nz\n\" id=\"DejaVuSans-97\"/>\n     <path d=\"M 18.109375 8.203125 \nL 18.109375 -20.796875 \nL 9.078125 -20.796875 \nL 9.078125 54.6875 \nL 18.109375 54.6875 \nL 18.109375 46.390625 \nQ 20.953125 51.265625 25.265625 53.625 \nQ 29.59375 56 35.59375 56 \nQ 45.5625 56 51.78125 48.09375 \nQ 58.015625 40.1875 58.015625 27.296875 \nQ 58.015625 14.40625 51.78125 6.484375 \nQ 45.5625 -1.421875 35.59375 -1.421875 \nQ 29.59375 -1.421875 25.265625 0.953125 \nQ 20.953125 3.328125 18.109375 8.203125 \nz\nM 48.6875 27.296875 \nQ 48.6875 37.203125 44.609375 42.84375 \nQ 40.53125 48.484375 33.40625 48.484375 \nQ 26.265625 48.484375 22.1875 42.84375 \nQ 18.109375 37.203125 18.109375 27.296875 \nQ 18.109375 17.390625 22.1875 11.75 \nQ 26.265625 6.109375 33.40625 6.109375 \nQ 40.53125 6.109375 44.609375 11.75 \nQ 48.6875 17.390625 48.6875 27.296875 \nz\n\" id=\"DejaVuSans-112\"/>\n     <path d=\"M 9.421875 75.984375 \nL 18.40625 75.984375 \nL 18.40625 0 \nL 9.421875 0 \nz\n\" id=\"DejaVuSans-108\"/>\n     <path d=\"M 18.3125 70.21875 \nL 18.3125 54.6875 \nL 36.8125 54.6875 \nL 36.8125 47.703125 \nL 18.3125 47.703125 \nL 18.3125 18.015625 \nQ 18.3125 11.328125 20.140625 9.421875 \nQ 21.96875 7.515625 27.59375 7.515625 \nL 36.8125 7.515625 \nL 36.8125 0 \nL 27.59375 0 \nQ 17.1875 0 13.234375 3.875 \nQ 9.28125 7.765625 9.28125 18.015625 \nL 9.28125 47.703125 \nL 2.6875 47.703125 \nL 2.6875 54.6875 \nL 9.28125 54.6875 \nL 9.28125 70.21875 \nz\n\" id=\"DejaVuSans-116\"/>\n     <path d=\"M 37.109375 75.984375 \nL 37.109375 68.5 \nL 28.515625 68.5 \nQ 23.6875 68.5 21.796875 66.546875 \nQ 19.921875 64.59375 19.921875 59.515625 \nL 19.921875 54.6875 \nL 34.71875 54.6875 \nL 34.71875 47.703125 \nL 19.921875 47.703125 \nL 19.921875 0 \nL 10.890625 0 \nL 10.890625 47.703125 \nL 2.296875 47.703125 \nL 2.296875 54.6875 \nL 10.890625 54.6875 \nL 10.890625 58.5 \nQ 10.890625 67.625 15.140625 71.796875 \nQ 19.390625 75.984375 28.609375 75.984375 \nz\n\" id=\"DejaVuSans-102\"/>\n     <path d=\"M 32.171875 -5.078125 \nQ 28.375 -14.84375 24.75 -17.8125 \nQ 21.140625 -20.796875 15.09375 -20.796875 \nL 7.90625 -20.796875 \nL 7.90625 -13.28125 \nL 13.1875 -13.28125 \nQ 16.890625 -13.28125 18.9375 -11.515625 \nQ 21 -9.765625 23.484375 -3.21875 \nL 25.09375 0.875 \nL 2.984375 54.6875 \nL 12.5 54.6875 \nL 29.59375 11.921875 \nL 46.6875 54.6875 \nL 56.203125 54.6875 \nz\n\" id=\"DejaVuSans-121\"/>\n     <path d=\"M 45.40625 46.390625 \nL 45.40625 75.984375 \nL 54.390625 75.984375 \nL 54.390625 0 \nL 45.40625 0 \nL 45.40625 8.203125 \nQ 42.578125 3.328125 38.25 0.953125 \nQ 33.9375 -1.421875 27.875 -1.421875 \nQ 17.96875 -1.421875 11.734375 6.484375 \nQ 5.515625 14.40625 5.515625 27.296875 \nQ 5.515625 40.1875 11.734375 48.09375 \nQ 17.96875 56 27.875 56 \nQ 33.9375 56 38.25 53.625 \nQ 42.578125 51.265625 45.40625 46.390625 \nz\nM 14.796875 27.296875 \nQ 14.796875 17.390625 18.875 11.75 \nQ 22.953125 6.109375 30.078125 6.109375 \nQ 37.203125 6.109375 41.296875 11.75 \nQ 45.40625 17.390625 45.40625 27.296875 \nQ 45.40625 37.203125 41.296875 42.84375 \nQ 37.203125 48.484375 30.078125 48.484375 \nQ 22.953125 48.484375 18.875 42.84375 \nQ 14.796875 37.203125 14.796875 27.296875 \nz\n\" id=\"DejaVuSans-100\"/>\n     <path d=\"M 44.28125 53.078125 \nL 44.28125 44.578125 \nQ 40.484375 46.53125 36.375 47.5 \nQ 32.28125 48.484375 27.875 48.484375 \nQ 21.1875 48.484375 17.84375 46.4375 \nQ 14.5 44.390625 14.5 40.28125 \nQ 14.5 37.15625 16.890625 35.375 \nQ 19.28125 33.59375 26.515625 31.984375 \nL 29.59375 31.296875 \nQ 39.15625 29.25 43.1875 25.515625 \nQ 47.21875 21.78125 47.21875 15.09375 \nQ 47.21875 7.46875 41.1875 3.015625 \nQ 35.15625 -1.421875 24.609375 -1.421875 \nQ 20.21875 -1.421875 15.453125 -0.5625 \nQ 10.6875 0.296875 5.421875 2 \nL 5.421875 11.28125 \nQ 10.40625 8.6875 15.234375 7.390625 \nQ 20.0625 6.109375 24.8125 6.109375 \nQ 31.15625 6.109375 34.5625 8.28125 \nQ 37.984375 10.453125 37.984375 14.40625 \nQ 37.984375 18.0625 35.515625 20.015625 \nQ 33.0625 21.96875 24.703125 23.78125 \nL 21.578125 24.515625 \nQ 13.234375 26.265625 9.515625 29.90625 \nQ 5.8125 33.546875 5.8125 39.890625 \nQ 5.8125 47.609375 11.28125 51.796875 \nQ 16.75 56 26.8125 56 \nQ 31.78125 56 36.171875 55.265625 \nQ 40.578125 54.546875 44.28125 53.078125 \nz\n\" id=\"DejaVuSans-115\"/>\n     <path d=\"M 52 44.1875 \nQ 55.375 50.25 60.0625 53.125 \nQ 64.75 56 71.09375 56 \nQ 79.640625 56 84.28125 50.015625 \nQ 88.921875 44.046875 88.921875 33.015625 \nL 88.921875 0 \nL 79.890625 0 \nL 79.890625 32.71875 \nQ 79.890625 40.578125 77.09375 44.375 \nQ 74.3125 48.1875 68.609375 48.1875 \nQ 61.625 48.1875 57.5625 43.546875 \nQ 53.515625 38.921875 53.515625 30.90625 \nL 53.515625 0 \nL 44.484375 0 \nL 44.484375 32.71875 \nQ 44.484375 40.625 41.703125 44.40625 \nQ 38.921875 48.1875 33.109375 48.1875 \nQ 26.21875 48.1875 22.15625 43.53125 \nQ 18.109375 38.875 18.109375 30.90625 \nL 18.109375 0 \nL 9.078125 0 \nL 9.078125 54.6875 \nL 18.109375 54.6875 \nL 18.109375 46.1875 \nQ 21.1875 51.21875 25.484375 53.609375 \nQ 29.78125 56 35.6875 56 \nQ 41.65625 56 45.828125 52.96875 \nQ 50 49.953125 52 44.1875 \nz\n\" id=\"DejaVuSans-109\"/>\n    </defs>\n    <g transform=\"translate(58.178625 18.14175)scale(0.144 -0.144)\">\n     <use xlink:href=\"#DejaVuSans-69\"/>\n     <use x=\"63.183594\" xlink:href=\"#DejaVuSans-114\"/>\n     <use x=\"102.546875\" xlink:href=\"#DejaVuSans-114\"/>\n     <use x=\"141.410156\" xlink:href=\"#DejaVuSans-111\"/>\n     <use x=\"202.591797\" xlink:href=\"#DejaVuSans-114\"/>\n     <use x=\"243.705078\" xlink:href=\"#DejaVuSans-98\"/>\n     <use x=\"307.181641\" xlink:href=\"#DejaVuSans-97\"/>\n     <use x=\"368.460938\" xlink:href=\"#DejaVuSans-114\"/>\n     <use x=\"409.574219\" xlink:href=\"#DejaVuSans-32\"/>\n     <use x=\"441.361328\" xlink:href=\"#DejaVuSans-112\"/>\n     <use x=\"504.837891\" xlink:href=\"#DejaVuSans-108\"/>\n     <use x=\"532.621094\" xlink:href=\"#DejaVuSans-111\"/>\n     <use x=\"593.802734\" xlink:href=\"#DejaVuSans-116\"/>\n     <use x=\"633.011719\" xlink:href=\"#DejaVuSans-32\"/>\n     <use x=\"664.798828\" xlink:href=\"#DejaVuSans-102\"/>\n     <use x=\"700.003906\" xlink:href=\"#DejaVuSans-111\"/>\n     <use x=\"761.185547\" xlink:href=\"#DejaVuSans-114\"/>\n     <use x=\"802.298828\" xlink:href=\"#DejaVuSans-32\"/>\n     <use x=\"834.085938\" xlink:href=\"#DejaVuSans-112\"/>\n     <use x=\"897.5625\" xlink:href=\"#DejaVuSans-114\"/>\n     <use x=\"936.425781\" xlink:href=\"#DejaVuSans-111\"/>\n     <use x=\"997.607422\" xlink:href=\"#DejaVuSans-98\"/>\n     <use x=\"1061.083984\" xlink:href=\"#DejaVuSans-97\"/>\n     <use x=\"1122.363281\" xlink:href=\"#DejaVuSans-98\"/>\n     <use x=\"1185.839844\" xlink:href=\"#DejaVuSans-105\"/>\n     <use x=\"1213.623047\" xlink:href=\"#DejaVuSans-108\"/>\n     <use x=\"1241.40625\" xlink:href=\"#DejaVuSans-105\"/>\n     <use x=\"1269.189453\" xlink:href=\"#DejaVuSans-116\"/>\n     <use x=\"1308.398438\" xlink:href=\"#DejaVuSans-121\"/>\n     <use x=\"1367.578125\" xlink:href=\"#DejaVuSans-32\"/>\n     <use x=\"1399.365234\" xlink:href=\"#DejaVuSans-100\"/>\n     <use x=\"1462.841797\" xlink:href=\"#DejaVuSans-101\"/>\n     <use x=\"1524.365234\" xlink:href=\"#DejaVuSans-110\"/>\n     <use x=\"1587.744141\" xlink:href=\"#DejaVuSans-115\"/>\n     <use x=\"1639.84375\" xlink:href=\"#DejaVuSans-105\"/>\n     <use x=\"1667.626953\" xlink:href=\"#DejaVuSans-116\"/>\n     <use x=\"1706.835938\" xlink:href=\"#DejaVuSans-121\"/>\n     <use x=\"1766.015625\" xlink:href=\"#DejaVuSans-32\"/>\n     <use x=\"1797.802734\" xlink:href=\"#DejaVuSans-101\"/>\n     <use x=\"1859.326172\" xlink:href=\"#DejaVuSans-115\"/>\n     <use x=\"1911.425781\" xlink:href=\"#DejaVuSans-116\"/>\n     <use x=\"1950.634766\" xlink:href=\"#DejaVuSans-105\"/>\n     <use x=\"1978.417969\" xlink:href=\"#DejaVuSans-109\"/>\n     <use x=\"2075.830078\" xlink:href=\"#DejaVuSans-97\"/>\n     <use x=\"2137.109375\" xlink:href=\"#DejaVuSans-116\"/>\n     <use x=\"2176.318359\" xlink:href=\"#DejaVuSans-105\"/>\n     <use x=\"2204.101562\" xlink:href=\"#DejaVuSans-111\"/>\n     <use x=\"2265.283203\" xlink:href=\"#DejaVuSans-110\"/>\n    </g>\n   </g>\n  </g>\n </g>\n <defs>\n  <clipPath id=\"p8251fc387b\">\n   <rect height=\"217.44\" width=\"334.8\" x=\"58.441875\" y=\"24.14175\"/>\n  </clipPath>\n </defs>\n</svg>\n"
          },
          "metadata": {
            "tags": []
          }
        }
      ]
    },
    {
      "cell_type": "markdown",
      "metadata": {
        "id": "01OeLOQRhF2a"
      },
      "source": [
        "# (1) Rate analysis\n",
        "\n",
        "In this part we will perform a rate analysis on the `X` dataset.\n",
        "\n",
        "\n",
        "\n",
        "\n",
        "**Signal and Backgrounds**:\n",
        "We focus here on the data between 100 and 200 GeV.\n",
        "\n",
        "The signal we are looking for is the decay of the Higgs boson in two photons. We have seen that this signal should be located around the Higgs mass, here at 125 GeV. We see indeed an excess of events around this value. To quantify the excess we woulk like to do a quick estimate. We therefore defign two regions. The _sideband_ is a region where only the background is present or where it is excessively dominating the signal. We decide here for instance that the two regions $100<X<120$ GeV and $130<X<200$ GeV are regions dominated by the backgrounds. We call them `side_band`. The signal region is defined as the region with $120<X<130$ GeV. We call it `signal_band`.\n",
        "\n",
        "\n",
        "\n"
      ]
    },
    {
      "cell_type": "markdown",
      "metadata": {
        "id": "29T5RC5daS5s"
      },
      "source": [
        "## Question2: Defining Signal region and sidebands\n",
        "\n",
        "Plot on a unique histogram in blue the sideband region (background), in red the signal region. For instance, use 50 bins  from 100 to 200 for each of these 2 histograms."
      ]
    },
    {
      "cell_type": "code",
      "metadata": {
        "id": "qcwk91oJfEzf"
      },
      "source": [
        "# Defining side_band and signal_band variables\n",
        "\n",
        "# Plotting the background histogram\n",
        "\n",
        "# Plotting the signal region histogram\n",
        "\n",
        "\n",
        "# plt.title('Histogram with signal band (red) and sideband (blue)');\n",
        "# plt.ylabel('$N(x)$');\n",
        "# plt.xlabel('$x$ ($m_{\\gamma\\gamma}$ in GeV)');"
      ],
      "execution_count": null,
      "outputs": []
    },
    {
      "cell_type": "markdown",
      "metadata": {
        "id": "fbi90v1OhhiN"
      },
      "source": [
        "## Question 3: counting S+B and B\n",
        "\n",
        "The overall shape of the collected events decreases over the $[100;200]$ range. We propose first to get a quick estimate potential signal and background to restict the collected data event closer to the signal region. Let's focus on the $[100;150]$ range now.\n",
        "\n",
        "1. We count the background $B_L$ in the left sideband and call this variable `BL`.\n",
        "2. We count the background $B_R$ in the right sideband and call this variable `BR`.\n",
        "3. We count the candidates (signal and background) in the signal region and call this variable `SB`.\n",
        "\n"
      ]
    },
    {
      "cell_type": "code",
      "metadata": {
        "id": "MtKstu5oi-HK"
      },
      "source": [
        ""
      ],
      "execution_count": null,
      "outputs": []
    },
    {
      "cell_type": "markdown",
      "metadata": {
        "id": "rofZNBMYhXyr"
      },
      "source": [
        "## Question 4: sidebands and signal region histogram\n",
        "Plot the 3 bin histogram of counts in Left & Right sidebands and signal region with correct bin width (region extent).\n",
        "\n",
        "Are you surprised by the shape? Why?"
      ]
    },
    {
      "cell_type": "code",
      "metadata": {
        "id": "QIpqZa6sjKcu"
      },
      "source": [
        ""
      ],
      "execution_count": null,
      "outputs": []
    },
    {
      "cell_type": "markdown",
      "metadata": {
        "id": "aAjHBNnmhkWK"
      },
      "source": [
        "Use the density property of histogram and plot again this histogram. Does this shape looks more alike the original histogram with equal bins?"
      ]
    },
    {
      "cell_type": "code",
      "metadata": {
        "id": "e8p3TtbxhJtP"
      },
      "source": [
        ""
      ],
      "execution_count": null,
      "outputs": []
    },
    {
      "cell_type": "markdown",
      "metadata": {
        "id": "jyyZPPRCh6Bv"
      },
      "source": [
        "## Question 5: Estimating the B in S+B from sidebands\n",
        "\n",
        "Despite the shape of the global event distribution with number of counts decreasing quickly between left and right sidebands we still continue and would like to use them to get a quick and dirty estimate of the number of background events in the signal region. We propose to use the average of both background estimates to get an idea of the background counts in the signal region.\n",
        "\n",
        "How many signal events do you estimate through this quick method? What is the uncertainty? (You have to remember the basic probability distribution associated to histogram from the lectures)."
      ]
    },
    {
      "cell_type": "code",
      "metadata": {
        "id": "98r_Uy2hj6cR",
        "colab": {
          "base_uri": "https://localhost:8080/"
        },
        "outputId": "3c246ded-9a3a-442e-8df2-2d164e27b752"
      },
      "source": [
        "from numpy import nan\n",
        "\n",
        "xxx = nan\n",
        "\n",
        "print('>> Both Left and Right')\n",
        "Signal_estimate_rate = xxx\n",
        "Signal_estimate_uncertainty = xxx\n",
        "print(\"Signal estimate from rate analysis = %5.2f ± %5.2f\" \n",
        "  % (Signal_estimate_rate, Signal_estimate_uncertainty))\n",
        "\n",
        "print('>> Left only')\n",
        "Signal_estimate_rate_L = xxx\n",
        "Signal_estimate_uncertainty_L = xxx\n",
        "print(\"Signal estimate from rate analysis = %5.2f ± %5.2f\" \n",
        "  % (Signal_estimate_rate_L, Signal_estimate_uncertainty_L))\n",
        "\n",
        "print('>> Right only')\n",
        "Signal_estimate_rate_R = xxx\n",
        "Signal_estimate_uncertainty_R = xxx\n",
        "print(\"Signal estimate from rate analysis = %5.2f ± %5.2f\" \n",
        "  % (Signal_estimate_rate_R, Signal_estimate_uncertainty_R))\n",
        "\n",
        "Z = Signal_estimate_rate/Signal_estimate_uncertainty\n",
        "print('Significance in number of sigmas w.r.t. standard normal: Z = %.1f σ' % Z)"
      ],
      "execution_count": 1,
      "outputs": [
        {
          "output_type": "stream",
          "text": [
            ">> Both Left and Right\n",
            "Signal estimate from rate analysis =   nan ±   nan\n",
            ">> Left only\n",
            "Signal estimate from rate analysis =   nan ±   nan\n",
            ">> Right only\n",
            "Signal estimate from rate analysis =   nan ±   nan\n",
            "Significance in number of sigmas w.r.t. standard normal: Z = nan σ\n"
          ],
          "name": "stdout"
        }
      ]
    },
    {
      "cell_type": "code",
      "metadata": {
        "id": "3tK9iIJEMZ94"
      },
      "source": [
        "print('Total number of candidate events: %d' % np.size(X))\n",
        "print('Estimage of number of signal events: %d' % Signal_estimate_rate)"
      ],
      "execution_count": null,
      "outputs": []
    },
    {
      "cell_type": "markdown",
      "metadata": {
        "id": "-JBbK9okmpte"
      },
      "source": [
        "Do you think it is possible to be confident with such an analysis? Why? Are the 2 background estimates compatible with each other?"
      ]
    },
    {
      "cell_type": "markdown",
      "metadata": {
        "id": "28IHNXaVy5xz"
      },
      "source": [
        "## Question 6: Finding a better estimate of B in S+B\n",
        "\n",
        "We propose to use a likelihood approach **on the sidebands** to fit the background distribution **outside the signal region**. For this purpose you will use the following function: \n",
        "$$f_{\\rm exp}(x;A,\\alpha) = A\\times \\alpha e^{-\\alpha x}$$\n",
        "\n",
        "This is a typical exponential distribution taking into account a background normalisation $A$.\n",
        "\n",
        "You will have to:\n",
        "1. Define the subset of `X` values outside the signal region. Give them this variable the name `Xside` .\n",
        "2. Define `fexp` function  to be minimised: `fexp(x,par)` where `x` are the data points at which the likelihood will be evalutaed and `par` are the parameters array $(A,\\alpha)$.\n",
        "3. Define `loglik_side` as $-2\\sum_{i=1}^n\\log(f_{\\rm exp}(x;A,\\alpha))$.\n",
        "4. Read the documentation of `scipy.optimize.minimize` function. You will have to provide `loglik_side`, `par0` and maybe `par_bnds` in the call. `par0` are initial guess values of the parameters. `par_bnds` are parameter boundary conditions, for instance if you want both parameters to be positive you should write `par_bnds = ((0, None), (0, None))` and provide `minimize` with this.\n",
        "\n",
        "What are the parameter values and uncertainties? To get the uncertainties you will have to use the inverse Hessian matrix provided by `minimize`.\n",
        "\n"
      ]
    },
    {
      "cell_type": "code",
      "metadata": {
        "id": "2erQH2uxk9rF"
      },
      "source": [
        "from scipy.optimize import minimize\n"
      ],
      "execution_count": null,
      "outputs": []
    },
    {
      "cell_type": "markdown",
      "metadata": {
        "id": "bgQ9C24O3Wsq"
      },
      "source": [
        "## Question 7: Plotting the fit output\n",
        "\n",
        "Plot the output of the fitted function and the histogram of the sideband data."
      ]
    },
    {
      "cell_type": "code",
      "metadata": {
        "id": "8xxOOxZ6wfXL"
      },
      "source": [
        ""
      ],
      "execution_count": null,
      "outputs": []
    },
    {
      "cell_type": "markdown",
      "metadata": {
        "id": "FiggmjU3NGou"
      },
      "source": [
        "Estimate the amount of background `B_est` in the signal region from the sidebands.\n",
        "\n",
        "\n"
      ]
    },
    {
      "cell_type": "code",
      "metadata": {
        "id": "c3P_L95zL2ew"
      },
      "source": [
        ""
      ],
      "execution_count": null,
      "outputs": []
    },
    {
      "cell_type": "code",
      "metadata": {
        "id": "5D11MAmqnaC3"
      },
      "source": [
        "Significance_G = Srate/dS_rate\n",
        "Significance_P = np.sqrt(2*((Srate+B_est)*np.log(1+Srate/B_est)-Srate))\n",
        "\n",
        "print('Z = ',Significance_G)"
      ],
      "execution_count": null,
      "outputs": []
    },
    {
      "cell_type": "markdown",
      "metadata": {
        "id": "9BZuP7NWHqCG"
      },
      "source": [
        "With this we end the part of the analysis on count rate analysis."
      ]
    },
    {
      "cell_type": "markdown",
      "metadata": {
        "id": "TXYZanLfPe7n"
      },
      "source": [
        "# (2) Unbinned shape analysis\n"
      ]
    },
    {
      "cell_type": "markdown",
      "metadata": {
        "id": "Knuo2zwUAFoe"
      },
      "source": [
        "We will now perform the same kind of fit but shape analyses.\n",
        "\n",
        "We start with the unbinned shape analyses.\n",
        "\n",
        "1. Unbinned likelihood\n",
        "2. Extended unbinned likelihood\n",
        "\n",
        "The difficulties often encountered with this type of fit is about the correct definition of the PDFs. One should in particular pay a lot of attention to the correct normalisation of the PDFs.\n"
      ]
    },
    {
      "cell_type": "markdown",
      "metadata": {
        "id": "yyyXbMoHHdsx"
      },
      "source": [
        "## Question 8: Plot the PDFs, first!"
      ]
    },
    {
      "cell_type": "markdown",
      "metadata": {
        "id": "lac0d0PxHcTc"
      },
      "source": [
        "The first thing to do is therefore to plot the assumed distributions we have and the rough guessee on S and B we extracted from the rate analysis. This should allow to get an idea of the plot to do."
      ]
    },
    {
      "cell_type": "code",
      "metadata": {
        "id": "tGlDXbgqADb2"
      },
      "source": [
        ""
      ],
      "execution_count": null,
      "outputs": []
    },
    {
      "cell_type": "markdown",
      "metadata": {
        "id": "o5j929IpHLMc"
      },
      "source": [
        "## Quesiton 9: Defining and fitting the unbinned likelihoods"
      ]
    },
    {
      "cell_type": "code",
      "metadata": {
        "id": "qZHOZRH9xbtP"
      },
      "source": [
        "from scipy.optimize import minimize\n",
        "from scipy.stats import expon, norm, poisson\n",
        "\n",
        "X = X[(X>100) & (X<200)]"
      ],
      "execution_count": null,
      "outputs": []
    },
    {
      "cell_type": "markdown",
      "metadata": {
        "id": "Ls-Few5KH9XC"
      },
      "source": [
        "## (2.a) Unbinned likelihood\n",
        "\n",
        "Define here the unbinned likelihood as seen during the lecture. \n",
        "\n",
        "Use `S, B, alpha, mH, sH` parameters to define this likelihood `lik(x,par)` of a single $x_i$.\n",
        "\n",
        "Pay attention to the normalisation of the PDFs.\n",
        "\n",
        "Then define the unbinned log likelihood as the sum of the log-likleihood of all the $x_i$ in the dataset and call it `ull(par)`."
      ]
    },
    {
      "cell_type": "code",
      "metadata": {
        "id": "ggBmJEv0xfHu"
      },
      "source": [
        ""
      ],
      "execution_count": null,
      "outputs": []
    },
    {
      "cell_type": "markdown",
      "metadata": {
        "id": "M5urIU7HBhRS"
      },
      "source": [
        "Perform the minimisation of the log-likelihood and get the fitted parameters `S, B, alpha, mH, sH`."
      ]
    },
    {
      "cell_type": "code",
      "metadata": {
        "id": "1k0ckVRexjne"
      },
      "source": [
        ""
      ],
      "execution_count": null,
      "outputs": []
    },
    {
      "cell_type": "markdown",
      "metadata": {
        "id": "dvp85i0OB8MS"
      },
      "source": [
        "Do a plot of the best fit model using an errorbar plot for the data and plot the best fit PDF of the signal+background model you just got."
      ]
    },
    {
      "cell_type": "code",
      "metadata": {
        "id": "RDcsPu5oxoTx"
      },
      "source": [
        ""
      ],
      "execution_count": null,
      "outputs": []
    },
    {
      "cell_type": "markdown",
      "metadata": {
        "id": "UDokjx0nH_fD"
      },
      "source": [
        "## (2.b) Extended unbinned likelihood"
      ]
    },
    {
      "cell_type": "markdown",
      "metadata": {
        "id": "k4WrjRiQCJ2l"
      },
      "source": [
        "We now extend the unbinned likelihood with the global counting rate on the full histogram. Write this extended likelihood as we have seen during the lectures.\n",
        "\n",
        "First code `elik(x,par)` for a single entry `x_i`\n",
        "\n",
        "Then code `ull_ext(par)`"
      ]
    },
    {
      "cell_type": "code",
      "metadata": {
        "id": "9l-kQ4PbPqxW"
      },
      "source": [
        ""
      ],
      "execution_count": null,
      "outputs": []
    },
    {
      "cell_type": "markdown",
      "metadata": {
        "id": "FhYD1GO4C2e4"
      },
      "source": [
        "Minimise this new likelihood with respect to the model parameters and get the best fitted values."
      ]
    },
    {
      "cell_type": "code",
      "metadata": {
        "id": "KX0x4wFqxz9U"
      },
      "source": [
        ""
      ],
      "execution_count": null,
      "outputs": []
    },
    {
      "cell_type": "markdown",
      "metadata": {
        "id": "FC0ntAKvDERp"
      },
      "source": [
        "Do a plot of the best fit model using an errorbar plot for the data and plot the best fit PDF of the signal+background model you just got."
      ]
    },
    {
      "cell_type": "code",
      "metadata": {
        "id": "IvjCI4jzwGGB"
      },
      "source": [
        ""
      ],
      "execution_count": null,
      "outputs": []
    },
    {
      "cell_type": "markdown",
      "metadata": {
        "id": "8gpBChQHIDKg"
      },
      "source": [
        "# (3) Binned shape analysis"
      ]
    },
    {
      "cell_type": "markdown",
      "metadata": {
        "id": "87rM-B4THrAO"
      },
      "source": [
        "## Question 10: Defining and fitting the binned likelihood"
      ]
    },
    {
      "cell_type": "markdown",
      "metadata": {
        "id": "OAVqH0t0EhR-"
      },
      "source": [
        "Another possible analysis of the histogram is to used a binned likelihood.\n",
        "\n",
        "We have first to define the content of each bin with a new function `BinContent(x,par)`. As long as the bin width is not to large and the PDF are slowy varying over the bin, it is possible to approximate the integral of the PDFs over each bin by the PDF taken at the central value multiplied by the bin width (but don't forget to multiply by the bin width!).\n",
        "\n",
        "Then define the likelihood of a single bin in `likp(xi,yi,par)`.\n",
        "\n",
        "Then defined the joint loglikelihood of all the bins in `bll(par)` for the observed dataset.\n",
        "\n",
        "Then find the minimum of this binned loglikelihood and get the best fit parameters.\n"
      ]
    },
    {
      "cell_type": "code",
      "metadata": {
        "id": "hNlIX_rYyAVo"
      },
      "source": [
        ""
      ],
      "execution_count": null,
      "outputs": []
    },
    {
      "cell_type": "markdown",
      "metadata": {
        "id": "GaNTH2CrFzv7"
      },
      "source": [
        "Finally, plot the errorbar plot of the data sample and plot the best fitted model using a `step` plot from `matplotlib.pyplot` for instance."
      ]
    },
    {
      "cell_type": "code",
      "metadata": {
        "id": "IAkYBh_EVbd0"
      },
      "source": [
        ""
      ],
      "execution_count": null,
      "outputs": []
    },
    {
      "cell_type": "markdown",
      "metadata": {
        "id": "cSEcbl4RpTGM"
      },
      "source": [
        "# Extra: Profiling the likelihood\n",
        "\n",
        "To get for instance the profiled likelihood on a parameter of interest (here suppose we hare mainly interested in `S` parameter), we have to fix the value of `S` and minimise the loglokelihood with respect to all the other parameters. We get a value of the loglikelihood and store it. We repeat this process for a range of values of `S` parameter around the best fit of `S`. Then we plot this profile subtracted from the value of the loglikelihood at the best fit."
      ]
    },
    {
      "cell_type": "code",
      "metadata": {
        "id": "XXIO5r-7pwYw"
      },
      "source": [
        ""
      ],
      "execution_count": null,
      "outputs": []
    }
  ]
}